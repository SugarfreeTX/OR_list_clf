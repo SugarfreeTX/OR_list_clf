{
 "metadata": {
  "language_info": {
   "codemirror_mode": {
    "name": "ipython",
    "version": 3
   },
   "file_extension": ".py",
   "mimetype": "text/x-python",
   "name": "python",
   "nbconvert_exporter": "python",
   "pygments_lexer": "ipython3",
   "version": "3.7.4-final"
  },
  "orig_nbformat": 2,
  "kernelspec": {
   "name": "python37432bit62314d65f2bf42b0992582f28e4a1f63",
   "display_name": "Python 3.7.4 32-bit",
   "language": "python"
  }
 },
 "nbformat": 4,
 "nbformat_minor": 2,
 "cells": [
  {
   "cell_type": "code",
   "execution_count": 1,
   "metadata": {},
   "outputs": [
    {
     "output_type": "execute_result",
     "data": {
      "text/plain": [
       "   Lead Surgeon       Date       MRN  \\\n",
       "0        142333   1/6/2020   2348312   \n",
       "1        131184   1/6/2020   8705179   \n",
       "2        152600   1/8/2020  15415485   \n",
       "3        152600   1/9/2020  14936925   \n",
       "4        122994  1/10/2020   8796688   \n",
       "\n",
       "                                     Diagnosis Codes  \\\n",
       "0               Gastric adenocarcinoma (HCC) [C16.9]   \n",
       "1       Chronic fibrosing pancreatitis (HCC) [K86.1]   \n",
       "2  Malignant neoplasm of abdominal esophagus (HCC...   \n",
       "3         History of esophagectomy [Z98.890, Z90.49]   \n",
       "4  Malignant neoplasm of lesser curvature of stom...   \n",
       "\n",
       "                                     Case Procedures     Service Case Indx  \\\n",
       "0  Laparoscopic Subtotal Gastrectomy With Roux-En...     General         Y   \n",
       "1  Total Pancreatectomy, Auto Islet Cell Transpla...  Transplant         Y   \n",
       "2  Minimally Invasive Esophagectomy Ivor Lewis [4...    Thoracic         Y   \n",
       "3        Esophagogastroduodenoscopy W/ Dilation [78]    Thoracic         Y   \n",
       "4  Egd [688], Laparoscopic Distal  Gastrectomy Wi...     General         Y   \n",
       "\n",
       "  Primary Categ Sub Categ  \n",
       "0     Esophagus         G  \n",
       "1      Pancreas         P  \n",
       "2     Esophagus         E  \n",
       "3     Esophagus     E-HxE  \n",
       "4       Gastric         G  "
      ],
      "text/html": "<div>\n<style scoped>\n    .dataframe tbody tr th:only-of-type {\n        vertical-align: middle;\n    }\n\n    .dataframe tbody tr th {\n        vertical-align: top;\n    }\n\n    .dataframe thead th {\n        text-align: right;\n    }\n</style>\n<table border=\"1\" class=\"dataframe\">\n  <thead>\n    <tr style=\"text-align: right;\">\n      <th></th>\n      <th>Lead Surgeon</th>\n      <th>Date</th>\n      <th>MRN</th>\n      <th>Diagnosis Codes</th>\n      <th>Case Procedures</th>\n      <th>Service</th>\n      <th>Case Indx</th>\n      <th>Primary Categ</th>\n      <th>Sub Categ</th>\n    </tr>\n  </thead>\n  <tbody>\n    <tr>\n      <th>0</th>\n      <td>142333</td>\n      <td>1/6/2020</td>\n      <td>2348312</td>\n      <td>Gastric adenocarcinoma (HCC) [C16.9]</td>\n      <td>Laparoscopic Subtotal Gastrectomy With Roux-En...</td>\n      <td>General</td>\n      <td>Y</td>\n      <td>Esophagus</td>\n      <td>G</td>\n    </tr>\n    <tr>\n      <th>1</th>\n      <td>131184</td>\n      <td>1/6/2020</td>\n      <td>8705179</td>\n      <td>Chronic fibrosing pancreatitis (HCC) [K86.1]</td>\n      <td>Total Pancreatectomy, Auto Islet Cell Transpla...</td>\n      <td>Transplant</td>\n      <td>Y</td>\n      <td>Pancreas</td>\n      <td>P</td>\n    </tr>\n    <tr>\n      <th>2</th>\n      <td>152600</td>\n      <td>1/8/2020</td>\n      <td>15415485</td>\n      <td>Malignant neoplasm of abdominal esophagus (HCC...</td>\n      <td>Minimally Invasive Esophagectomy Ivor Lewis [4...</td>\n      <td>Thoracic</td>\n      <td>Y</td>\n      <td>Esophagus</td>\n      <td>E</td>\n    </tr>\n    <tr>\n      <th>3</th>\n      <td>152600</td>\n      <td>1/9/2020</td>\n      <td>14936925</td>\n      <td>History of esophagectomy [Z98.890, Z90.49]</td>\n      <td>Esophagogastroduodenoscopy W/ Dilation [78]</td>\n      <td>Thoracic</td>\n      <td>Y</td>\n      <td>Esophagus</td>\n      <td>E-HxE</td>\n    </tr>\n    <tr>\n      <th>4</th>\n      <td>122994</td>\n      <td>1/10/2020</td>\n      <td>8796688</td>\n      <td>Malignant neoplasm of lesser curvature of stom...</td>\n      <td>Egd [688], Laparoscopic Distal  Gastrectomy Wi...</td>\n      <td>General</td>\n      <td>Y</td>\n      <td>Gastric</td>\n      <td>G</td>\n    </tr>\n  </tbody>\n</table>\n</div>"
     },
     "metadata": {},
     "execution_count": 1
    }
   ],
   "source": [
    "import pandas as pd \n",
    "import numpy as np \n",
    "from sklearn.metrics import classification_report \n",
    "from sklearn.svm import SVC\n",
    "from sklearn.multiclass import OneVsRestClassifier\n",
    "from sklearn.preprocessing import OneHotEncoder\n",
    "%matplotlib inline \n",
    "import matplotlib as plt \n",
    "\n",
    "path = 'C:/Users/e745092/Desktop/Visual Studio/OR_Cases_2020.csv'\n",
    "\n",
    "data = pd.read_csv(path)\n",
    "data.head()"
   ]
  },
  {
   "cell_type": "code",
   "execution_count": 2,
   "metadata": {},
   "outputs": [],
   "source": [
    "from sklearn.pipeline import Pipeline\n",
    "from sklearn.compose import ColumnTransformer\n",
    "import re\n",
    "from sklearn.model_selection import train_test_split\n",
    "\n",
    "data_na = data.dropna()\n",
    "X = data_na.drop('Primary Categ', axis=1)\n",
    "y = data_na['Primary Categ']\n"
   ]
  },
  {
   "cell_type": "code",
   "execution_count": 3,
   "metadata": {},
   "outputs": [
    {
     "output_type": "execute_result",
     "data": {
      "text/plain": [
       "Lead Surgeon       False\n",
       "Date               False\n",
       "MRN                False\n",
       "Diagnosis Codes    False\n",
       "Case Procedures    False\n",
       "Service            False\n",
       "Case Indx          False\n",
       "Sub Categ          False\n",
       "dtype: bool"
      ]
     },
     "metadata": {},
     "execution_count": 3
    }
   ],
   "source": [
    "X.isnull().any()"
   ]
  },
  {
   "source": [
    "def remove_brackets(df):\n",
    "    df['DX1'] = df['Diagnosis Codes'].apply(lambda x: re.findall('\\[(.*?)\\]',x))\n",
    "    df['Procedure_Codes1'] = df['Case Procedures'].apply(lambda x: re.findall('\\[(.*?)\\]',x))\n",
    "    df['DX_Codes'] = df['DX1'].str.get(0)\n",
    "    df['Procedure_Codes'] =  df['Procedure_Codes1'].str.join(', ')\n",
    "    df = df.drop(['Lead Surgeon', 'Date', 'MRN', 'Diagnosis Codes', 'Case Procedures', 'DX1', 'Procedure_Codes1'], axis=1)\n",
    "    return df"
   ],
   "cell_type": "markdown",
   "metadata": {}
  },
  {
   "cell_type": "code",
   "execution_count": 4,
   "metadata": {},
   "outputs": [],
   "source": [
    "from sklearn.base import BaseEstimator, TransformerMixin\n",
    "\n",
    "class RemoveBrackets(BaseEstimator, TransformerMixin):\n",
    "    def __init__(self, remove_bracket = True):\n",
    "        self.remove_bracket = remove_bracket\n",
    "    def fit(self, X, y=None):\n",
    "        return self # nothing else to do \n",
    "    def transform(self, X):\n",
    "        X['DX1'] = X['Diagnosis Codes'].apply(lambda x: re.findall('\\[(.*?)\\]',x))\n",
    "        X['Procedure_Codes1'] = X['Case Procedures'].apply(lambda x: re.findall('\\[(.*?)\\]',x))\n",
    "        X['DX_Codes'] = X['DX1'].str.get(0)\n",
    "        X['Procedure_Codes'] =  X['Procedure_Codes1'].str.join(', ')\n",
    "        X = X.drop(['Lead Surgeon', 'Date', 'MRN', 'Diagnosis Codes', 'Case Procedures', 'DX1', 'Procedure_Codes1'], axis=1)\n",
    "        return X"
   ]
  },
  {
   "cell_type": "code",
   "execution_count": 5,
   "metadata": {},
   "outputs": [],
   "source": [
    "pipeline = Pipeline([\n",
    "    ('Remove Brackets', RemoveBrackets()),\n",
    "    ('encode', OneHotEncoder(handle_unknown='ignore')),\n",
    "    ])"
   ]
  },
  {
   "cell_type": "code",
   "execution_count": 6,
   "metadata": {},
   "outputs": [],
   "source": [
    "X = pipeline.fit_transform(X)"
   ]
  },
  {
   "cell_type": "code",
   "execution_count": 7,
   "metadata": {},
   "outputs": [
    {
     "output_type": "execute_result",
     "data": {
      "text/plain": [
       "(346, 266)"
      ]
     },
     "metadata": {},
     "execution_count": 7
    }
   ],
   "source": [
    "X.shape"
   ]
  },
  {
   "cell_type": "code",
   "execution_count": 8,
   "metadata": {},
   "outputs": [],
   "source": [
    "from sklearn.mode0l_selection import train_test_split\n",
    "\n",
    "X_train, X_test, y_train, y_test = train_test_split(X, y, test_size=0.2, random_state=42)"
   ]
  },
  {
   "cell_type": "code",
   "execution_count": 9,
   "metadata": {},
   "outputs": [
    {
     "output_type": "execute_result",
     "data": {
      "text/plain": [
       "(346,)"
      ]
     },
     "metadata": {},
     "execution_count": 9
    }
   ],
   "source": [
    "y.shape"
   ]
  },
  {
   "cell_type": "code",
   "execution_count": 10,
   "metadata": {},
   "outputs": [
    {
     "output_type": "execute_result",
     "data": {
      "text/plain": [
       "(346, 266)"
      ]
     },
     "metadata": {},
     "execution_count": 10
    }
   ],
   "source": [
    "X.shape"
   ]
  },
  {
   "source": [
    "# OVR SVC Model "
   ],
   "cell_type": "markdown",
   "metadata": {}
  },
  {
   "cell_type": "code",
   "execution_count": 12,
   "metadata": {},
   "outputs": [],
   "source": [
    "from sklearn.metrics import classification_report \n",
    "from sklearn.svm import SVC\n",
    "from sklearn.multiclass import OneVsRestClassifier"
   ]
  },
  {
   "cell_type": "code",
   "execution_count": 13,
   "metadata": {},
   "outputs": [
    {
     "output_type": "execute_result",
     "data": {
      "text/plain": [
       "OneVsRestClassifier(estimator=SVC(degree=2, random_state=42))"
      ]
     },
     "metadata": {},
     "execution_count": 13
    }
   ],
   "source": [
    "ovr_clf = OneVsRestClassifier(SVC(degree=2, gamma=\"scale\", random_state=42))\n",
    "\n",
    "ovr_clf.fit(X_train, y_train)"
   ]
  },
  {
   "cell_type": "code",
   "execution_count": 14,
   "metadata": {},
   "outputs": [
    {
     "output_type": "stream",
     "name": "stdout",
     "text": [
      "              precision    recall  f1-score   support\n\n      Breast       0.00      0.00      0.00         1\n   Esophagus       0.84      1.00      0.91        21\n     Gastric       1.00      0.71      0.83        14\n        Lung       1.00      1.00      1.00        23\n    Pancreas       0.92      1.00      0.96        11\n\n    accuracy                           0.93        70\n   macro avg       0.75      0.74      0.74        70\nweighted avg       0.92      0.93      0.92        70\n\n"
     ]
    }
   ],
   "source": [
    "print(classification_report(y_test, ovr_clf.predict(X_test)))"
   ]
  },
  {
   "cell_type": "code",
   "execution_count": 15,
   "metadata": {},
   "outputs": [
    {
     "output_type": "execute_result",
     "data": {
      "text/plain": [
       "array(['Esophagus', 'Lung', 'Pancreas', 'Gastric', 'Breast'], dtype=object)"
      ]
     },
     "metadata": {},
     "execution_count": 15
    }
   ],
   "source": [
    "y_test.unique()"
   ]
  },
  {
   "cell_type": "code",
   "execution_count": null,
   "metadata": {},
   "outputs": [],
   "source": []
  }
 ]
}
