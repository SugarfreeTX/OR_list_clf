{
 "metadata": {
  "language_info": {
   "codemirror_mode": {
    "name": "ipython",
    "version": 3
   },
   "file_extension": ".py",
   "mimetype": "text/x-python",
   "name": "python",
   "nbconvert_exporter": "python",
   "pygments_lexer": "ipython3",
   "version": "3.7.4-final"
  },
  "orig_nbformat": 2,
  "kernelspec": {
   "name": "python37432bit62314d65f2bf42b0992582f28e4a1f63",
   "display_name": "Python 3.7.4 32-bit",
   "language": "python"
  }
 },
 "nbformat": 4,
 "nbformat_minor": 2,
 "cells": [
  {
   "cell_type": "code",
   "execution_count": 1,
   "metadata": {},
   "outputs": [
    {
     "output_type": "execute_result",
     "data": {
      "text/plain": [
       "   Lead Surgeon       Date       MRN  \\\n",
       "0        142333   1/6/2020   2348312   \n",
       "1        131184   1/6/2020   8705179   \n",
       "2        152600   1/8/2020  15415485   \n",
       "3        152600   1/9/2020  14936925   \n",
       "4        122994  1/10/2020   8796688   \n",
       "\n",
       "                                     Diagnosis Codes  \\\n",
       "0               Gastric adenocarcinoma (HCC) [C16.9]   \n",
       "1       Chronic fibrosing pancreatitis (HCC) [K86.1]   \n",
       "2  Malignant neoplasm of abdominal esophagus (HCC...   \n",
       "3         History of esophagectomy [Z98.890, Z90.49]   \n",
       "4  Malignant neoplasm of lesser curvature of stom...   \n",
       "\n",
       "                                     Case Procedures     Service Case Indx  \\\n",
       "0  Laparoscopic Subtotal Gastrectomy With Roux-En...     General         Y   \n",
       "1  Total Pancreatectomy, Auto Islet Cell Transpla...  Transplant         Y   \n",
       "2  Minimally Invasive Esophagectomy Ivor Lewis [4...    Thoracic         Y   \n",
       "3        Esophagogastroduodenoscopy W/ Dilation [78]    Thoracic         Y   \n",
       "4  Egd [688], Laparoscopic Distal  Gastrectomy Wi...     General         Y   \n",
       "\n",
       "  Primary Categ Sub Categ  \n",
       "0     Esophagus         G  \n",
       "1      Pancreas         P  \n",
       "2     Esophagus         E  \n",
       "3     Esophagus     E-HxE  \n",
       "4       Gastric         G  "
      ],
      "text/html": "<div>\n<style scoped>\n    .dataframe tbody tr th:only-of-type {\n        vertical-align: middle;\n    }\n\n    .dataframe tbody tr th {\n        vertical-align: top;\n    }\n\n    .dataframe thead th {\n        text-align: right;\n    }\n</style>\n<table border=\"1\" class=\"dataframe\">\n  <thead>\n    <tr style=\"text-align: right;\">\n      <th></th>\n      <th>Lead Surgeon</th>\n      <th>Date</th>\n      <th>MRN</th>\n      <th>Diagnosis Codes</th>\n      <th>Case Procedures</th>\n      <th>Service</th>\n      <th>Case Indx</th>\n      <th>Primary Categ</th>\n      <th>Sub Categ</th>\n    </tr>\n  </thead>\n  <tbody>\n    <tr>\n      <th>0</th>\n      <td>142333</td>\n      <td>1/6/2020</td>\n      <td>2348312</td>\n      <td>Gastric adenocarcinoma (HCC) [C16.9]</td>\n      <td>Laparoscopic Subtotal Gastrectomy With Roux-En...</td>\n      <td>General</td>\n      <td>Y</td>\n      <td>Esophagus</td>\n      <td>G</td>\n    </tr>\n    <tr>\n      <th>1</th>\n      <td>131184</td>\n      <td>1/6/2020</td>\n      <td>8705179</td>\n      <td>Chronic fibrosing pancreatitis (HCC) [K86.1]</td>\n      <td>Total Pancreatectomy, Auto Islet Cell Transpla...</td>\n      <td>Transplant</td>\n      <td>Y</td>\n      <td>Pancreas</td>\n      <td>P</td>\n    </tr>\n    <tr>\n      <th>2</th>\n      <td>152600</td>\n      <td>1/8/2020</td>\n      <td>15415485</td>\n      <td>Malignant neoplasm of abdominal esophagus (HCC...</td>\n      <td>Minimally Invasive Esophagectomy Ivor Lewis [4...</td>\n      <td>Thoracic</td>\n      <td>Y</td>\n      <td>Esophagus</td>\n      <td>E</td>\n    </tr>\n    <tr>\n      <th>3</th>\n      <td>152600</td>\n      <td>1/9/2020</td>\n      <td>14936925</td>\n      <td>History of esophagectomy [Z98.890, Z90.49]</td>\n      <td>Esophagogastroduodenoscopy W/ Dilation [78]</td>\n      <td>Thoracic</td>\n      <td>Y</td>\n      <td>Esophagus</td>\n      <td>E-HxE</td>\n    </tr>\n    <tr>\n      <th>4</th>\n      <td>122994</td>\n      <td>1/10/2020</td>\n      <td>8796688</td>\n      <td>Malignant neoplasm of lesser curvature of stom...</td>\n      <td>Egd [688], Laparoscopic Distal  Gastrectomy Wi...</td>\n      <td>General</td>\n      <td>Y</td>\n      <td>Gastric</td>\n      <td>G</td>\n    </tr>\n  </tbody>\n</table>\n</div>"
     },
     "metadata": {},
     "execution_count": 1
    }
   ],
   "source": [
    "import pandas as pd \n",
    "import numpy as np \n",
    "from sklearn.metrics import classification_report \n",
    "from sklearn.svm import SVC\n",
    "from sklearn.multiclass import OneVsRestClassifier\n",
    "from sklearn.preprocessing import OneHotEncoder\n",
    "%matplotlib inline \n",
    "import matplotlib as plt \n",
    "\n",
    "path = 'C:/Users/e745092/Desktop/Visual Studio/OR_Cases_2020.csv'\n",
    "\n",
    "data = pd.read_csv(path)\n",
    "data.head()"
   ]
  },
  {
   "cell_type": "code",
   "execution_count": 2,
   "metadata": {},
   "outputs": [
    {
     "output_type": "execute_result",
     "data": {
      "text/plain": [
       "(335, 9)"
      ]
     },
     "metadata": {},
     "execution_count": 2
    }
   ],
   "source": [
    "data.shape"
   ]
  },
  {
   "cell_type": "code",
   "execution_count": 3,
   "metadata": {},
   "outputs": [
    {
     "output_type": "stream",
     "name": "stdout",
     "text": [
      "<class 'pandas.core.frame.DataFrame'>\nRangeIndex: 335 entries, 0 to 334\nData columns (total 9 columns):\n #   Column           Non-Null Count  Dtype \n---  ------           --------------  ----- \n 0   Lead Surgeon     335 non-null    int64 \n 1   Date             335 non-null    object\n 2   MRN              334 non-null    object\n 3   Diagnosis Codes  335 non-null    object\n 4   Case Procedures  335 non-null    object\n 5   Service          335 non-null    object\n 6   Case Indx        334 non-null    object\n 7   Primary Categ    335 non-null    object\n 8   Sub Categ        335 non-null    object\ndtypes: int64(1), object(8)\nmemory usage: 13.1+ KB\n"
     ]
    }
   ],
   "source": [
    "data.info()"
   ]
  },
  {
   "cell_type": "code",
   "execution_count": 4,
   "metadata": {},
   "outputs": [
    {
     "output_type": "execute_result",
     "data": {
      "text/plain": [
       "Lead Surgeon       0\n",
       "Date               0\n",
       "MRN                1\n",
       "Diagnosis Codes    0\n",
       "Case Procedures    0\n",
       "Service            0\n",
       "Case Indx          1\n",
       "Primary Categ      0\n",
       "Sub Categ          0\n",
       "dtype: int64"
      ]
     },
     "metadata": {},
     "execution_count": 4
    }
   ],
   "source": [
    "data.isnull().sum()"
   ]
  },
  {
   "cell_type": "code",
   "execution_count": 5,
   "metadata": {},
   "outputs": [],
   "source": [
    "data = data.dropna()"
   ]
  },
  {
   "cell_type": "code",
   "execution_count": 6,
   "metadata": {},
   "outputs": [],
   "source": [
    "import re\n",
    "\n",
    "data['DX1']=data['Diagnosis Codes'].apply(lambda x: re.findall('\\[(.*?)\\]',x))\n",
    "# print(data['DX'])\n",
    "data['Procedure Codes1']=data['Case Procedures'].apply(lambda x: re.findall('\\[(.*?)\\]',x))\n",
    "#print(data['Procedure Codes'])"
   ]
  },
  {
   "cell_type": "code",
   "execution_count": 7,
   "metadata": {},
   "outputs": [
    {
     "output_type": "stream",
     "name": "stdout",
     "text": [
      "<class 'list'>\n"
     ]
    }
   ],
   "source": [
    "print(type(data.loc[0, 'Procedure Codes1']))"
   ]
  },
  {
   "cell_type": "code",
   "execution_count": 8,
   "metadata": {},
   "outputs": [
    {
     "output_type": "execute_result",
     "data": {
      "text/plain": [
       "   Lead Surgeon       Date       MRN  \\\n",
       "0        142333   1/6/2020   2348312   \n",
       "1        131184   1/6/2020   8705179   \n",
       "2        152600   1/8/2020  15415485   \n",
       "3        152600   1/9/2020  14936925   \n",
       "4        122994  1/10/2020   8796688   \n",
       "\n",
       "                                     Diagnosis Codes  \\\n",
       "0               Gastric adenocarcinoma (HCC) [C16.9]   \n",
       "1       Chronic fibrosing pancreatitis (HCC) [K86.1]   \n",
       "2  Malignant neoplasm of abdominal esophagus (HCC...   \n",
       "3         History of esophagectomy [Z98.890, Z90.49]   \n",
       "4  Malignant neoplasm of lesser curvature of stom...   \n",
       "\n",
       "                                     Case Procedures     Service Case Indx  \\\n",
       "0  Laparoscopic Subtotal Gastrectomy With Roux-En...     General         Y   \n",
       "1  Total Pancreatectomy, Auto Islet Cell Transpla...  Transplant         Y   \n",
       "2  Minimally Invasive Esophagectomy Ivor Lewis [4...    Thoracic         Y   \n",
       "3        Esophagogastroduodenoscopy W/ Dilation [78]    Thoracic         Y   \n",
       "4  Egd [688], Laparoscopic Distal  Gastrectomy Wi...     General         Y   \n",
       "\n",
       "  Primary Categ Sub Categ                DX1          Procedure Codes1  \\\n",
       "0     Esophagus         G            [C16.9]  [1075612297, 1075612211]   \n",
       "1      Pancreas         P            [K86.1]  [1075612630, 1075611937]   \n",
       "2     Esophagus         E            [C15.5]  [43287, 1075617378, 688]   \n",
       "3     Esophagus     E-HxE  [Z98.890, Z90.49]                      [78]   \n",
       "4       Gastric         G            [C16.5]         [688, 1070000770]   \n",
       "\n",
       "          DX_Codes         Procedure_Codes  \n",
       "0            C16.9  1075612297, 1075612211  \n",
       "1            K86.1  1075612630, 1075611937  \n",
       "2            C15.5  43287, 1075617378, 688  \n",
       "3  Z98.890, Z90.49                      78  \n",
       "4            C16.5         688, 1070000770  "
      ],
      "text/html": "<div>\n<style scoped>\n    .dataframe tbody tr th:only-of-type {\n        vertical-align: middle;\n    }\n\n    .dataframe tbody tr th {\n        vertical-align: top;\n    }\n\n    .dataframe thead th {\n        text-align: right;\n    }\n</style>\n<table border=\"1\" class=\"dataframe\">\n  <thead>\n    <tr style=\"text-align: right;\">\n      <th></th>\n      <th>Lead Surgeon</th>\n      <th>Date</th>\n      <th>MRN</th>\n      <th>Diagnosis Codes</th>\n      <th>Case Procedures</th>\n      <th>Service</th>\n      <th>Case Indx</th>\n      <th>Primary Categ</th>\n      <th>Sub Categ</th>\n      <th>DX1</th>\n      <th>Procedure Codes1</th>\n      <th>DX_Codes</th>\n      <th>Procedure_Codes</th>\n    </tr>\n  </thead>\n  <tbody>\n    <tr>\n      <th>0</th>\n      <td>142333</td>\n      <td>1/6/2020</td>\n      <td>2348312</td>\n      <td>Gastric adenocarcinoma (HCC) [C16.9]</td>\n      <td>Laparoscopic Subtotal Gastrectomy With Roux-En...</td>\n      <td>General</td>\n      <td>Y</td>\n      <td>Esophagus</td>\n      <td>G</td>\n      <td>[C16.9]</td>\n      <td>[1075612297, 1075612211]</td>\n      <td>C16.9</td>\n      <td>1075612297, 1075612211</td>\n    </tr>\n    <tr>\n      <th>1</th>\n      <td>131184</td>\n      <td>1/6/2020</td>\n      <td>8705179</td>\n      <td>Chronic fibrosing pancreatitis (HCC) [K86.1]</td>\n      <td>Total Pancreatectomy, Auto Islet Cell Transpla...</td>\n      <td>Transplant</td>\n      <td>Y</td>\n      <td>Pancreas</td>\n      <td>P</td>\n      <td>[K86.1]</td>\n      <td>[1075612630, 1075611937]</td>\n      <td>K86.1</td>\n      <td>1075612630, 1075611937</td>\n    </tr>\n    <tr>\n      <th>2</th>\n      <td>152600</td>\n      <td>1/8/2020</td>\n      <td>15415485</td>\n      <td>Malignant neoplasm of abdominal esophagus (HCC...</td>\n      <td>Minimally Invasive Esophagectomy Ivor Lewis [4...</td>\n      <td>Thoracic</td>\n      <td>Y</td>\n      <td>Esophagus</td>\n      <td>E</td>\n      <td>[C15.5]</td>\n      <td>[43287, 1075617378, 688]</td>\n      <td>C15.5</td>\n      <td>43287, 1075617378, 688</td>\n    </tr>\n    <tr>\n      <th>3</th>\n      <td>152600</td>\n      <td>1/9/2020</td>\n      <td>14936925</td>\n      <td>History of esophagectomy [Z98.890, Z90.49]</td>\n      <td>Esophagogastroduodenoscopy W/ Dilation [78]</td>\n      <td>Thoracic</td>\n      <td>Y</td>\n      <td>Esophagus</td>\n      <td>E-HxE</td>\n      <td>[Z98.890, Z90.49]</td>\n      <td>[78]</td>\n      <td>Z98.890, Z90.49</td>\n      <td>78</td>\n    </tr>\n    <tr>\n      <th>4</th>\n      <td>122994</td>\n      <td>1/10/2020</td>\n      <td>8796688</td>\n      <td>Malignant neoplasm of lesser curvature of stom...</td>\n      <td>Egd [688], Laparoscopic Distal  Gastrectomy Wi...</td>\n      <td>General</td>\n      <td>Y</td>\n      <td>Gastric</td>\n      <td>G</td>\n      <td>[C16.5]</td>\n      <td>[688, 1070000770]</td>\n      <td>C16.5</td>\n      <td>688, 1070000770</td>\n    </tr>\n  </tbody>\n</table>\n</div>"
     },
     "metadata": {},
     "execution_count": 8
    }
   ],
   "source": [
    "data['DX_Codes'] = data['DX1'].str.get(0)\n",
    "# data['Procedure_Codes'] = data['Procedure Codes1'].str.get(0)\n",
    "data['Procedure_Codes'] =  data['Procedure Codes1'].str.join(', ')\n",
    "data.head()"
   ]
  },
  {
   "cell_type": "code",
   "execution_count": 9,
   "metadata": {},
   "outputs": [
    {
     "output_type": "execute_result",
     "data": {
      "text/plain": [
       "Lead Surgeon        False\n",
       "Date                False\n",
       "MRN                 False\n",
       "Diagnosis Codes     False\n",
       "Case Procedures     False\n",
       "Service             False\n",
       "Case Indx           False\n",
       "Primary Categ       False\n",
       "Sub Categ           False\n",
       "DX1                 False\n",
       "Procedure Codes1    False\n",
       "DX_Codes            False\n",
       "Procedure_Codes     False\n",
       "dtype: bool"
      ]
     },
     "metadata": {},
     "execution_count": 9
    }
   ],
   "source": [
    "data.isnull().any()"
   ]
  },
  {
   "cell_type": "code",
   "execution_count": 10,
   "metadata": {},
   "outputs": [
    {
     "output_type": "stream",
     "name": "stdout",
     "text": [
      "(333, 5)\n(333,)\n"
     ]
    }
   ],
   "source": [
    "X = data.drop(['Lead Surgeon', 'Date', 'MRN', 'Diagnosis Codes', 'Case Procedures', 'DX1', 'Procedure Codes1', 'Primary Categ'], axis=1)\n",
    "y = data['Primary Categ']\n",
    "print(X.shape)\n",
    "print(y.shape)"
   ]
  },
  {
   "cell_type": "code",
   "execution_count": 11,
   "metadata": {},
   "outputs": [
    {
     "output_type": "stream",
     "name": "stdout",
     "text": [
      "      Service Case Indx Sub Categ         DX_Codes         Procedure_Codes\n0     General         Y         G            C16.9  1075612297, 1075612211\n1  Transplant         Y         P            K86.1  1075612630, 1075611937\n2    Thoracic         Y         E            C15.5  43287, 1075617378, 688\n3    Thoracic         Y     E-HxE  Z98.890, Z90.49                      78\n4     General         Y         G            C16.5         688, 1070000770\n['Esophagus' 'Pancreas' 'Gastric' 'Other' 'Lung' 'O']\n"
     ]
    }
   ],
   "source": [
    "print(X.head())\n",
    "print(y.unique())"
   ]
  },
  {
   "source": [
    "# OVR SVC model "
   ],
   "cell_type": "markdown",
   "metadata": {}
  },
  {
   "cell_type": "code",
   "execution_count": 12,
   "metadata": {},
   "outputs": [
    {
     "output_type": "stream",
     "name": "stdout",
     "text": [
      "(333, 247)\n(333,)\n"
     ]
    }
   ],
   "source": [
    "from sklearn.preprocessing import label_binarize \n",
    "\n",
    "# y6 = label_binarize(y, classes=['Esophagus', 'Pancreas', 'Gastric', 'Other', 'Lung', 'O'])\n",
    "\n",
    "hot_encoder = OneHotEncoder()\n",
    "X_encoded = hot_encoder.fit_transform(X)\n",
    "\n",
    "print(X_encoded.shape)\n",
    "print(y.shape)"
   ]
  },
  {
   "cell_type": "code",
   "execution_count": 13,
   "metadata": {},
   "outputs": [
    {
     "output_type": "stream",
     "name": "stdout",
     "text": [
      "(266, 247)\n(67, 247)\n(266,)\n(67,)\n"
     ]
    }
   ],
   "source": [
    "from sklearn.model_selection import train_test_split\n",
    "\n",
    "# I shouldn't fit_transform test data. I should split before encoding. \n",
    "\n",
    "X_train, X_test, y_train, y_test = train_test_split(X_encoded, y, test_size=0.2, random_state=42) # train with y instead of y6 which is encoded to seperate each class. \n",
    "\n",
    "print(X_train.shape)\n",
    "print(X_test.shape)\n",
    "print(y_train.shape)\n",
    "print(y_test.shape)"
   ]
  },
  {
   "cell_type": "code",
   "execution_count": 14,
   "metadata": {},
   "outputs": [
    {
     "output_type": "execute_result",
     "data": {
      "text/plain": [
       "OneVsRestClassifier(estimator=SVC(degree=2, random_state=42))"
      ]
     },
     "metadata": {},
     "execution_count": 14
    }
   ],
   "source": [
    "ovr_clf = OneVsRestClassifier(SVC(degree=2, gamma=\"scale\", random_state=42))\n",
    "\n",
    "ovr_clf.fit(X_train, y_train)"
   ]
  },
  {
   "cell_type": "code",
   "execution_count": 15,
   "metadata": {},
   "outputs": [
    {
     "output_type": "stream",
     "name": "stdout",
     "text": [
      "['Gastric' 'Lung' 'Pancreas' 'Esophagus']\n['Gastric' 'Pancreas' 'Esophagus' 'Lung' 'Other' 'O']\n"
     ]
    }
   ],
   "source": [
    "print(y_test.unique())\n",
    "print(y_train.unique())"
   ]
  },
  {
   "cell_type": "code",
   "execution_count": 17,
   "metadata": {},
   "outputs": [
    {
     "output_type": "stream",
     "name": "stdout",
     "text": [
      "              precision    recall  f1-score   support\n\n   Esophagus       0.89      1.00      0.94        25\n    Pancreas       1.00      0.75      0.86        12\n     Gastric       1.00      1.00      1.00        25\n        Lung       1.00      1.00      1.00         5\n\n    accuracy                           0.96        67\n   macro avg       0.97      0.94      0.95        67\nweighted avg       0.96      0.96      0.95        67\n\n"
     ]
    }
   ],
   "source": [
    "# Use test data. \n",
    "\n",
    "print(classification_report(y_test, ovr_clf.predict(X_test), target_names=['Esophagus', 'Pancreas', 'Gastric', 'Lung']))"
   ]
  },
  {
   "cell_type": "code",
   "execution_count": 18,
   "metadata": {},
   "outputs": [
    {
     "output_type": "execute_result",
     "data": {
      "text/plain": [
       "                                     Diagnosis Codes  \\\n",
       "0               Gastric adenocarcinoma (HCC) [C16.9]   \n",
       "1       Chronic fibrosing pancreatitis (HCC) [K86.1]   \n",
       "2  Malignant neoplasm of abdominal esophagus (HCC...   \n",
       "3         History of esophagectomy [Z98.890, Z90.49]   \n",
       "4  Malignant neoplasm of lesser curvature of stom...   \n",
       "\n",
       "                                     Case Procedures     Service Case Indx  \\\n",
       "0  Laparoscopic Subtotal Gastrectomy With Roux-En...     General         Y   \n",
       "1  Total Pancreatectomy, Auto Islet Cell Transpla...  Transplant         Y   \n",
       "2  Minimally Invasive Esophagectomy Ivor Lewis [4...    Thoracic         Y   \n",
       "3        Esophagogastroduodenoscopy W/ Dilation [78]    Thoracic         Y   \n",
       "4  Egd [688], Laparoscopic Distal  Gastrectomy Wi...     General         Y   \n",
       "\n",
       "  Sub Categ  \n",
       "0         G  \n",
       "1         P  \n",
       "2         E  \n",
       "3     E-HxE  \n",
       "4         G  "
      ],
      "text/html": "<div>\n<style scoped>\n    .dataframe tbody tr th:only-of-type {\n        vertical-align: middle;\n    }\n\n    .dataframe tbody tr th {\n        vertical-align: top;\n    }\n\n    .dataframe thead th {\n        text-align: right;\n    }\n</style>\n<table border=\"1\" class=\"dataframe\">\n  <thead>\n    <tr style=\"text-align: right;\">\n      <th></th>\n      <th>Diagnosis Codes</th>\n      <th>Case Procedures</th>\n      <th>Service</th>\n      <th>Case Indx</th>\n      <th>Sub Categ</th>\n    </tr>\n  </thead>\n  <tbody>\n    <tr>\n      <th>0</th>\n      <td>Gastric adenocarcinoma (HCC) [C16.9]</td>\n      <td>Laparoscopic Subtotal Gastrectomy With Roux-En...</td>\n      <td>General</td>\n      <td>Y</td>\n      <td>G</td>\n    </tr>\n    <tr>\n      <th>1</th>\n      <td>Chronic fibrosing pancreatitis (HCC) [K86.1]</td>\n      <td>Total Pancreatectomy, Auto Islet Cell Transpla...</td>\n      <td>Transplant</td>\n      <td>Y</td>\n      <td>P</td>\n    </tr>\n    <tr>\n      <th>2</th>\n      <td>Malignant neoplasm of abdominal esophagus (HCC...</td>\n      <td>Minimally Invasive Esophagectomy Ivor Lewis [4...</td>\n      <td>Thoracic</td>\n      <td>Y</td>\n      <td>E</td>\n    </tr>\n    <tr>\n      <th>3</th>\n      <td>History of esophagectomy [Z98.890, Z90.49]</td>\n      <td>Esophagogastroduodenoscopy W/ Dilation [78]</td>\n      <td>Thoracic</td>\n      <td>Y</td>\n      <td>E-HxE</td>\n    </tr>\n    <tr>\n      <th>4</th>\n      <td>Malignant neoplasm of lesser curvature of stom...</td>\n      <td>Egd [688], Laparoscopic Distal  Gastrectomy Wi...</td>\n      <td>General</td>\n      <td>Y</td>\n      <td>G</td>\n    </tr>\n  </tbody>\n</table>\n</div>"
     },
     "metadata": {},
     "execution_count": 18
    }
   ],
   "source": [
    "test_path = 'C:/Users/e745092/Desktop/Visual Studio/test.csv'\n",
    "\n",
    "test_data = pd.read_csv(test_path)\n",
    "test_data.head()"
   ]
  },
  {
   "cell_type": "code",
   "execution_count": 19,
   "metadata": {},
   "outputs": [
    {
     "output_type": "execute_result",
     "data": {
      "text/plain": [
       "                                     Diagnosis Codes  \\\n",
       "0               Gastric adenocarcinoma (HCC) [C16.9]   \n",
       "1       Chronic fibrosing pancreatitis (HCC) [K86.1]   \n",
       "2  Malignant neoplasm of abdominal esophagus (HCC...   \n",
       "3         History of esophagectomy [Z98.890, Z90.49]   \n",
       "4  Malignant neoplasm of lesser curvature of stom...   \n",
       "\n",
       "                                     Case Procedures     Service Case Indx  \\\n",
       "0  Laparoscopic Subtotal Gastrectomy With Roux-En...     General         Y   \n",
       "1  Total Pancreatectomy, Auto Islet Cell Transpla...  Transplant         Y   \n",
       "2  Minimally Invasive Esophagectomy Ivor Lewis [4...    Thoracic         Y   \n",
       "3        Esophagogastroduodenoscopy W/ Dilation [78]    Thoracic         Y   \n",
       "4  Egd [688], Laparoscopic Distal  Gastrectomy Wi...     General         Y   \n",
       "\n",
       "  Sub Categ                DX1          Procedure Codes1         DX_Codes  \\\n",
       "0         G            [C16.9]  [1075612297, 1075612211]            C16.9   \n",
       "1         P            [K86.1]  [1075612630, 1075611937]            K86.1   \n",
       "2         E            [C15.5]  [43287, 1075617378, 688]            C15.5   \n",
       "3     E-HxE  [Z98.890, Z90.49]                      [78]  Z98.890, Z90.49   \n",
       "4         G            [C16.5]         [688, 1070000770]            C16.5   \n",
       "\n",
       "          Procedure_Codes  \n",
       "0  1075612297, 1075612211  \n",
       "1  1075612630, 1075611937  \n",
       "2  43287, 1075617378, 688  \n",
       "3                      78  \n",
       "4         688, 1070000770  "
      ],
      "text/html": "<div>\n<style scoped>\n    .dataframe tbody tr th:only-of-type {\n        vertical-align: middle;\n    }\n\n    .dataframe tbody tr th {\n        vertical-align: top;\n    }\n\n    .dataframe thead th {\n        text-align: right;\n    }\n</style>\n<table border=\"1\" class=\"dataframe\">\n  <thead>\n    <tr style=\"text-align: right;\">\n      <th></th>\n      <th>Diagnosis Codes</th>\n      <th>Case Procedures</th>\n      <th>Service</th>\n      <th>Case Indx</th>\n      <th>Sub Categ</th>\n      <th>DX1</th>\n      <th>Procedure Codes1</th>\n      <th>DX_Codes</th>\n      <th>Procedure_Codes</th>\n    </tr>\n  </thead>\n  <tbody>\n    <tr>\n      <th>0</th>\n      <td>Gastric adenocarcinoma (HCC) [C16.9]</td>\n      <td>Laparoscopic Subtotal Gastrectomy With Roux-En...</td>\n      <td>General</td>\n      <td>Y</td>\n      <td>G</td>\n      <td>[C16.9]</td>\n      <td>[1075612297, 1075612211]</td>\n      <td>C16.9</td>\n      <td>1075612297, 1075612211</td>\n    </tr>\n    <tr>\n      <th>1</th>\n      <td>Chronic fibrosing pancreatitis (HCC) [K86.1]</td>\n      <td>Total Pancreatectomy, Auto Islet Cell Transpla...</td>\n      <td>Transplant</td>\n      <td>Y</td>\n      <td>P</td>\n      <td>[K86.1]</td>\n      <td>[1075612630, 1075611937]</td>\n      <td>K86.1</td>\n      <td>1075612630, 1075611937</td>\n    </tr>\n    <tr>\n      <th>2</th>\n      <td>Malignant neoplasm of abdominal esophagus (HCC...</td>\n      <td>Minimally Invasive Esophagectomy Ivor Lewis [4...</td>\n      <td>Thoracic</td>\n      <td>Y</td>\n      <td>E</td>\n      <td>[C15.5]</td>\n      <td>[43287, 1075617378, 688]</td>\n      <td>C15.5</td>\n      <td>43287, 1075617378, 688</td>\n    </tr>\n    <tr>\n      <th>3</th>\n      <td>History of esophagectomy [Z98.890, Z90.49]</td>\n      <td>Esophagogastroduodenoscopy W/ Dilation [78]</td>\n      <td>Thoracic</td>\n      <td>Y</td>\n      <td>E-HxE</td>\n      <td>[Z98.890, Z90.49]</td>\n      <td>[78]</td>\n      <td>Z98.890, Z90.49</td>\n      <td>78</td>\n    </tr>\n    <tr>\n      <th>4</th>\n      <td>Malignant neoplasm of lesser curvature of stom...</td>\n      <td>Egd [688], Laparoscopic Distal  Gastrectomy Wi...</td>\n      <td>General</td>\n      <td>Y</td>\n      <td>G</td>\n      <td>[C16.5]</td>\n      <td>[688, 1070000770]</td>\n      <td>C16.5</td>\n      <td>688, 1070000770</td>\n    </tr>\n  </tbody>\n</table>\n</div>"
     },
     "metadata": {},
     "execution_count": 19
    }
   ],
   "source": [
    "test_data['DX1']=test_data['Diagnosis Codes'].apply(lambda x: re.findall('\\[(.*?)\\]',x))\n",
    "# print(data['DX'])\n",
    "test_data['Procedure Codes1']=test_data['Case Procedures'].apply(lambda x: re.findall('\\[(.*?)\\]',x))\n",
    "#print(data['Procedure Codes'])\n",
    "\n",
    "test_data['DX_Codes'] = test_data['DX1'].str.get(0)\n",
    "test_data['Procedure_Codes'] =  test_data['Procedure Codes1'].str.join(', ')\n",
    "test_data.head()"
   ]
  },
  {
   "cell_type": "code",
   "execution_count": 20,
   "metadata": {},
   "outputs": [
    {
     "output_type": "execute_result",
     "data": {
      "text/plain": [
       "      Service Case Indx Sub Categ         DX_Codes         Procedure_Codes\n",
       "0     General         Y         G            C16.9  1075612297, 1075612211\n",
       "1  Transplant         Y         P            K86.1  1075612630, 1075611937\n",
       "2    Thoracic         Y         E            C15.5  43287, 1075617378, 688\n",
       "3    Thoracic         Y     E-HxE  Z98.890, Z90.49                      78\n",
       "4     General         Y         G            C16.5         688, 1070000770\n",
       "5    Thoracic         Y         O           R13.10                      78\n",
       "6    Thoracic         Y         O            C15.5                     688\n",
       "7    Thoracic         N        LM            K44.9                        \n",
       "8    Thoracic         Y         O            C15.5              1075617077"
      ],
      "text/html": "<div>\n<style scoped>\n    .dataframe tbody tr th:only-of-type {\n        vertical-align: middle;\n    }\n\n    .dataframe tbody tr th {\n        vertical-align: top;\n    }\n\n    .dataframe thead th {\n        text-align: right;\n    }\n</style>\n<table border=\"1\" class=\"dataframe\">\n  <thead>\n    <tr style=\"text-align: right;\">\n      <th></th>\n      <th>Service</th>\n      <th>Case Indx</th>\n      <th>Sub Categ</th>\n      <th>DX_Codes</th>\n      <th>Procedure_Codes</th>\n    </tr>\n  </thead>\n  <tbody>\n    <tr>\n      <th>0</th>\n      <td>General</td>\n      <td>Y</td>\n      <td>G</td>\n      <td>C16.9</td>\n      <td>1075612297, 1075612211</td>\n    </tr>\n    <tr>\n      <th>1</th>\n      <td>Transplant</td>\n      <td>Y</td>\n      <td>P</td>\n      <td>K86.1</td>\n      <td>1075612630, 1075611937</td>\n    </tr>\n    <tr>\n      <th>2</th>\n      <td>Thoracic</td>\n      <td>Y</td>\n      <td>E</td>\n      <td>C15.5</td>\n      <td>43287, 1075617378, 688</td>\n    </tr>\n    <tr>\n      <th>3</th>\n      <td>Thoracic</td>\n      <td>Y</td>\n      <td>E-HxE</td>\n      <td>Z98.890, Z90.49</td>\n      <td>78</td>\n    </tr>\n    <tr>\n      <th>4</th>\n      <td>General</td>\n      <td>Y</td>\n      <td>G</td>\n      <td>C16.5</td>\n      <td>688, 1070000770</td>\n    </tr>\n    <tr>\n      <th>5</th>\n      <td>Thoracic</td>\n      <td>Y</td>\n      <td>O</td>\n      <td>R13.10</td>\n      <td>78</td>\n    </tr>\n    <tr>\n      <th>6</th>\n      <td>Thoracic</td>\n      <td>Y</td>\n      <td>O</td>\n      <td>C15.5</td>\n      <td>688</td>\n    </tr>\n    <tr>\n      <th>7</th>\n      <td>Thoracic</td>\n      <td>N</td>\n      <td>LM</td>\n      <td>K44.9</td>\n      <td></td>\n    </tr>\n    <tr>\n      <th>8</th>\n      <td>Thoracic</td>\n      <td>Y</td>\n      <td>O</td>\n      <td>C15.5</td>\n      <td>1075617077</td>\n    </tr>\n  </tbody>\n</table>\n</div>"
     },
     "metadata": {},
     "execution_count": 20
    }
   ],
   "source": [
    "test_data = test_data.drop(['DX1', 'Procedure Codes1','Diagnosis Codes', 'Case Procedures'], axis=1)\n",
    "test_data.head(10)"
   ]
  },
  {
   "cell_type": "code",
   "execution_count": 21,
   "metadata": {},
   "outputs": [
    {
     "output_type": "execute_result",
     "data": {
      "text/plain": [
       "Service            False\n",
       "Case Indx          False\n",
       "Sub Categ          False\n",
       "DX_Codes           False\n",
       "Procedure_Codes    False\n",
       "dtype: bool"
      ]
     },
     "metadata": {},
     "execution_count": 21
    }
   ],
   "source": [
    "test_data.isnull().any()"
   ]
  },
  {
   "cell_type": "code",
   "execution_count": 24,
   "metadata": {},
   "outputs": [
    {
     "output_type": "execute_result",
     "data": {
      "text/plain": [
       "(9, 247)"
      ]
     },
     "metadata": {},
     "execution_count": 24
    }
   ],
   "source": [
    "ignore_encoder = OneHotEncoder(handle_unknown='ignore')\n",
    "ignore_encoder.fit_transform(X)\n",
    "\n",
    "\n",
    "test_data_encoded = ignore_encoder.transform(test_data)\n",
    "\n",
    "test_data_encoded.shape"
   ]
  },
  {
   "cell_type": "code",
   "execution_count": 26,
   "metadata": {},
   "outputs": [
    {
     "output_type": "execute_result",
     "data": {
      "text/plain": [
       "0      Gastric\n",
       "1     Pancreas\n",
       "2    Esophagus\n",
       "3    Esophagus\n",
       "4      Gastric\n",
       "5    Esophagus\n",
       "6    Esophagus\n",
       "7    Esophagus\n",
       "8    Esophagus\n",
       "dtype: object"
      ]
     },
     "metadata": {},
     "execution_count": 26
    }
   ],
   "source": [
    "ovr_clf_prediction = ovr_clf.predict(test_data_encoded)\n",
    "pd.Series(ovr_clf_prediction)"
   ]
  },
  {
   "cell_type": "code",
   "execution_count": 33,
   "metadata": {},
   "outputs": [
    {
     "output_type": "execute_result",
     "data": {
      "text/plain": [
       "array(['Gastric'], dtype='<U9')"
      ]
     },
     "metadata": {},
     "execution_count": 33
    }
   ],
   "source": [
    "ovr_clf.predict(test_data_encoded[[0]])"
   ]
  },
  {
   "cell_type": "code",
   "execution_count": 42,
   "metadata": {},
   "outputs": [
    {
     "output_type": "execute_result",
     "data": {
      "text/plain": [
       "                                     Diagnosis Codes  \\\n",
       "0                           Pancreatic mass [K86.89]   \n",
       "1  Ductal carcinoma in situ of right breast [D05.11]   \n",
       "2           Other chronic pancreatitis (HCC) [K86.1]   \n",
       "3  Malignant neoplasm of lower-outer quadrant of ...   \n",
       "4  Malignant neoplasm of lower third of esophagus...   \n",
       "\n",
       "                                     Case Procedures     Service Case Indx  \\\n",
       "0  Laparoscopic Distal Pancreatectomy And Splenec...     General         Y   \n",
       "1                      Right Lumpectomy [1075617330]     General         Y   \n",
       "2  Total Pancreatectomy, Auto Islet Cell Transpla...  Transplant         Y   \n",
       "3  Bilateral Total Mastectomy [1075617332], Right...     General         Y   \n",
       "4  Laparoscopic Cholecystectomy, Pyloroplasty, Po...     General         Y   \n",
       "\n",
       "     Sub Categ  \n",
       "0     P-Distal  \n",
       "1  B-Partial M  \n",
       "2      P-Total  \n",
       "3          B-M  \n",
       "4            O  "
      ],
      "text/html": "<div>\n<style scoped>\n    .dataframe tbody tr th:only-of-type {\n        vertical-align: middle;\n    }\n\n    .dataframe tbody tr th {\n        vertical-align: top;\n    }\n\n    .dataframe thead th {\n        text-align: right;\n    }\n</style>\n<table border=\"1\" class=\"dataframe\">\n  <thead>\n    <tr style=\"text-align: right;\">\n      <th></th>\n      <th>Diagnosis Codes</th>\n      <th>Case Procedures</th>\n      <th>Service</th>\n      <th>Case Indx</th>\n      <th>Sub Categ</th>\n    </tr>\n  </thead>\n  <tbody>\n    <tr>\n      <th>0</th>\n      <td>Pancreatic mass [K86.89]</td>\n      <td>Laparoscopic Distal Pancreatectomy And Splenec...</td>\n      <td>General</td>\n      <td>Y</td>\n      <td>P-Distal</td>\n    </tr>\n    <tr>\n      <th>1</th>\n      <td>Ductal carcinoma in situ of right breast [D05.11]</td>\n      <td>Right Lumpectomy [1075617330]</td>\n      <td>General</td>\n      <td>Y</td>\n      <td>B-Partial M</td>\n    </tr>\n    <tr>\n      <th>2</th>\n      <td>Other chronic pancreatitis (HCC) [K86.1]</td>\n      <td>Total Pancreatectomy, Auto Islet Cell Transpla...</td>\n      <td>Transplant</td>\n      <td>Y</td>\n      <td>P-Total</td>\n    </tr>\n    <tr>\n      <th>3</th>\n      <td>Malignant neoplasm of lower-outer quadrant of ...</td>\n      <td>Bilateral Total Mastectomy [1075617332], Right...</td>\n      <td>General</td>\n      <td>Y</td>\n      <td>B-M</td>\n    </tr>\n    <tr>\n      <th>4</th>\n      <td>Malignant neoplasm of lower third of esophagus...</td>\n      <td>Laparoscopic Cholecystectomy, Pyloroplasty, Po...</td>\n      <td>General</td>\n      <td>Y</td>\n      <td>O</td>\n    </tr>\n  </tbody>\n</table>\n</div>"
     },
     "metadata": {},
     "execution_count": 42
    }
   ],
   "source": [
    "path_2 = 'C:/Users/e745092/Desktop/Visual Studio/test_2.csv'\n",
    "test_2 = pd.read_csv(path_2)\n",
    "test_2.head()\n"
   ]
  },
  {
   "cell_type": "code",
   "execution_count": 43,
   "metadata": {},
   "outputs": [
    {
     "output_type": "execute_result",
     "data": {
      "text/plain": [
       "                                     Diagnosis Codes  \\\n",
       "0                           Pancreatic mass [K86.89]   \n",
       "1  Ductal carcinoma in situ of right breast [D05.11]   \n",
       "2           Other chronic pancreatitis (HCC) [K86.1]   \n",
       "3  Malignant neoplasm of lower-outer quadrant of ...   \n",
       "4  Malignant neoplasm of lower third of esophagus...   \n",
       "\n",
       "                                     Case Procedures     Service Case Indx  \\\n",
       "0  Laparoscopic Distal Pancreatectomy And Splenec...     General         Y   \n",
       "1                      Right Lumpectomy [1075617330]     General         Y   \n",
       "2  Total Pancreatectomy, Auto Islet Cell Transpla...  Transplant         Y   \n",
       "3  Bilateral Total Mastectomy [1075617332], Right...     General         Y   \n",
       "4  Laparoscopic Cholecystectomy, Pyloroplasty, Po...     General         Y   \n",
       "\n",
       "     Sub Categ                         DX1  \\\n",
       "0     P-Distal                    [K86.89]   \n",
       "1  B-Partial M                    [D05.11]   \n",
       "2      P-Total                     [K86.1]   \n",
       "3          B-M  [C50.511, C50.919, Z90.13]   \n",
       "4            O                     [C15.5]   \n",
       "\n",
       "                                    Procedure Codes1 DX_Codes  \\\n",
       "0                           [1078500003, 1075611941]   K86.89   \n",
       "1                                       [1075617330]   D05.11   \n",
       "2                           [1075612630, 1075611937]    K86.1   \n",
       "3  [1075617332, 1075611957, 1075617827, 107560976...  C50.511   \n",
       "4  [1075612301, 1075612588, 1075617799, 107561229...    C15.5   \n",
       "\n",
       "                                     Procedure_Codes  \n",
       "0                             1078500003, 1075611941  \n",
       "1                                         1075617330  \n",
       "2                             1075612630, 1075611937  \n",
       "3  1075617332, 1075611957, 1075617827, 1075609766...  \n",
       "4  1075612301, 1075612588, 1075617799, 1075612297...  "
      ],
      "text/html": "<div>\n<style scoped>\n    .dataframe tbody tr th:only-of-type {\n        vertical-align: middle;\n    }\n\n    .dataframe tbody tr th {\n        vertical-align: top;\n    }\n\n    .dataframe thead th {\n        text-align: right;\n    }\n</style>\n<table border=\"1\" class=\"dataframe\">\n  <thead>\n    <tr style=\"text-align: right;\">\n      <th></th>\n      <th>Diagnosis Codes</th>\n      <th>Case Procedures</th>\n      <th>Service</th>\n      <th>Case Indx</th>\n      <th>Sub Categ</th>\n      <th>DX1</th>\n      <th>Procedure Codes1</th>\n      <th>DX_Codes</th>\n      <th>Procedure_Codes</th>\n    </tr>\n  </thead>\n  <tbody>\n    <tr>\n      <th>0</th>\n      <td>Pancreatic mass [K86.89]</td>\n      <td>Laparoscopic Distal Pancreatectomy And Splenec...</td>\n      <td>General</td>\n      <td>Y</td>\n      <td>P-Distal</td>\n      <td>[K86.89]</td>\n      <td>[1078500003, 1075611941]</td>\n      <td>K86.89</td>\n      <td>1078500003, 1075611941</td>\n    </tr>\n    <tr>\n      <th>1</th>\n      <td>Ductal carcinoma in situ of right breast [D05.11]</td>\n      <td>Right Lumpectomy [1075617330]</td>\n      <td>General</td>\n      <td>Y</td>\n      <td>B-Partial M</td>\n      <td>[D05.11]</td>\n      <td>[1075617330]</td>\n      <td>D05.11</td>\n      <td>1075617330</td>\n    </tr>\n    <tr>\n      <th>2</th>\n      <td>Other chronic pancreatitis (HCC) [K86.1]</td>\n      <td>Total Pancreatectomy, Auto Islet Cell Transpla...</td>\n      <td>Transplant</td>\n      <td>Y</td>\n      <td>P-Total</td>\n      <td>[K86.1]</td>\n      <td>[1075612630, 1075611937]</td>\n      <td>K86.1</td>\n      <td>1075612630, 1075611937</td>\n    </tr>\n    <tr>\n      <th>3</th>\n      <td>Malignant neoplasm of lower-outer quadrant of ...</td>\n      <td>Bilateral Total Mastectomy [1075617332], Right...</td>\n      <td>General</td>\n      <td>Y</td>\n      <td>B-M</td>\n      <td>[C50.511, C50.919, Z90.13]</td>\n      <td>[1075617332, 1075611957, 1075617827, 107560976...</td>\n      <td>C50.511</td>\n      <td>1075617332, 1075611957, 1075617827, 1075609766...</td>\n    </tr>\n    <tr>\n      <th>4</th>\n      <td>Malignant neoplasm of lower third of esophagus...</td>\n      <td>Laparoscopic Cholecystectomy, Pyloroplasty, Po...</td>\n      <td>General</td>\n      <td>Y</td>\n      <td>O</td>\n      <td>[C15.5]</td>\n      <td>[1075612301, 1075612588, 1075617799, 107561229...</td>\n      <td>C15.5</td>\n      <td>1075612301, 1075612588, 1075617799, 1075612297...</td>\n    </tr>\n  </tbody>\n</table>\n</div>"
     },
     "metadata": {},
     "execution_count": 43
    }
   ],
   "source": [
    "test_2['DX1']=test_2['Diagnosis Codes'].apply(lambda x: re.findall('\\[(.*?)\\]',x))\n",
    "# print(data['DX'])\n",
    "test_2['Procedure Codes1']=test_2['Case Procedures'].apply(lambda x: re.findall('\\[(.*?)\\]',x))\n",
    "#print(data['Procedure Codes'])\n",
    "\n",
    "test_2['DX_Codes'] = test_2['DX1'].str.get(0)\n",
    "test_2['Procedure_Codes'] =  test_2['Procedure Codes1'].str.join(', ')\n",
    "test_2.head()"
   ]
  },
  {
   "cell_type": "code",
   "execution_count": 44,
   "metadata": {},
   "outputs": [
    {
     "output_type": "execute_result",
     "data": {
      "text/plain": [
       "      Service Case Indx    Sub Categ DX_Codes  \\\n",
       "0     General         Y     P-Distal   K86.89   \n",
       "1     General         Y  B-Partial M   D05.11   \n",
       "2  Transplant         Y      P-Total    K86.1   \n",
       "3     General         Y          B-M  C50.511   \n",
       "4     General         Y            O    C15.5   \n",
       "\n",
       "                                     Procedure_Codes  \n",
       "0                             1078500003, 1075611941  \n",
       "1                                         1075617330  \n",
       "2                             1075612630, 1075611937  \n",
       "3  1075617332, 1075611957, 1075617827, 1075609766...  \n",
       "4  1075612301, 1075612588, 1075617799, 1075612297...  "
      ],
      "text/html": "<div>\n<style scoped>\n    .dataframe tbody tr th:only-of-type {\n        vertical-align: middle;\n    }\n\n    .dataframe tbody tr th {\n        vertical-align: top;\n    }\n\n    .dataframe thead th {\n        text-align: right;\n    }\n</style>\n<table border=\"1\" class=\"dataframe\">\n  <thead>\n    <tr style=\"text-align: right;\">\n      <th></th>\n      <th>Service</th>\n      <th>Case Indx</th>\n      <th>Sub Categ</th>\n      <th>DX_Codes</th>\n      <th>Procedure_Codes</th>\n    </tr>\n  </thead>\n  <tbody>\n    <tr>\n      <th>0</th>\n      <td>General</td>\n      <td>Y</td>\n      <td>P-Distal</td>\n      <td>K86.89</td>\n      <td>1078500003, 1075611941</td>\n    </tr>\n    <tr>\n      <th>1</th>\n      <td>General</td>\n      <td>Y</td>\n      <td>B-Partial M</td>\n      <td>D05.11</td>\n      <td>1075617330</td>\n    </tr>\n    <tr>\n      <th>2</th>\n      <td>Transplant</td>\n      <td>Y</td>\n      <td>P-Total</td>\n      <td>K86.1</td>\n      <td>1075612630, 1075611937</td>\n    </tr>\n    <tr>\n      <th>3</th>\n      <td>General</td>\n      <td>Y</td>\n      <td>B-M</td>\n      <td>C50.511</td>\n      <td>1075617332, 1075611957, 1075617827, 1075609766...</td>\n    </tr>\n    <tr>\n      <th>4</th>\n      <td>General</td>\n      <td>Y</td>\n      <td>O</td>\n      <td>C15.5</td>\n      <td>1075612301, 1075612588, 1075617799, 1075612297...</td>\n    </tr>\n  </tbody>\n</table>\n</div>"
     },
     "metadata": {},
     "execution_count": 44
    }
   ],
   "source": [
    "test_2 = test_2.drop(['Diagnosis Codes', 'Case Procedures', 'DX1', 'Procedure Codes1'], axis=1)\n",
    "test_2.head()"
   ]
  },
  {
   "cell_type": "code",
   "execution_count": 45,
   "metadata": {},
   "outputs": [
    {
     "output_type": "execute_result",
     "data": {
      "text/plain": [
       "(9, 247)"
      ]
     },
     "metadata": {},
     "execution_count": 45
    }
   ],
   "source": [
    "test_2_encoded = ignore_encoder.transform(test_2)\n",
    "test_2_encoded.shape"
   ]
  },
  {
   "cell_type": "code",
   "execution_count": 46,
   "metadata": {},
   "outputs": [
    {
     "output_type": "execute_result",
     "data": {
      "text/plain": [
       "0     Pancreas\n",
       "1     Pancreas\n",
       "2     Pancreas\n",
       "3     Pancreas\n",
       "4    Esophagus\n",
       "5         Lung\n",
       "6     Pancreas\n",
       "7     Pancreas\n",
       "8     Pancreas\n",
       "dtype: object"
      ]
     },
     "metadata": {},
     "execution_count": 46
    }
   ],
   "source": [
    "test_2_prediction = ovr_clf.predict(test_2_encoded)\n",
    "pd.Series(test_2_prediction)"
   ]
  },
  {
   "source": [
    "# Add Polynomial Features and Scale the data"
   ],
   "cell_type": "markdown",
   "metadata": {}
  },
  {
   "cell_type": "code",
   "execution_count": 12,
   "metadata": {},
   "outputs": [],
   "source": [
    "from sklearn.pipeline import Pipeline\n",
    "from sklearn.preprocessing import StandardScaler\n",
    "\n",
    "poly_kernel_svm_clf = Pipeline([\n",
    "    (\"scaler\", StandardScaler()),\n",
    "    (\"svm_clf\", OneVsRestClassifier(SVC(kernel=\"poly\", degree=2, coef0=1, C=5)))\n",
    "])"
   ]
  },
  {
   "cell_type": "code",
   "execution_count": 13,
   "metadata": {},
   "outputs": [
    {
     "output_type": "stream",
     "name": "stdout",
     "text": [
      "(305, 156)\n(305, 6)\n"
     ]
    }
   ],
   "source": [
    "# Create new X and y since StandardScaler cannot scale sparse matrix. \n",
    "# We will set sparse in the OneHotEncoder to False.classification_report\n",
    "\n",
    "non_sprase_encoder = OneHotEncoder(sparse=False)\n",
    "\n",
    "X_non_sparse = non_sprase_encoder.fit_transform(X)\n",
    "y_poly = label_binarize(y, classes=['Esophagus', 'Pancreas', 'Gastric', 'Other', 'Lung', 'O'])\n",
    "\n",
    "print(X_non_sparse.shape)\n",
    "print(y_poly.shape)"
   ]
  },
  {
   "cell_type": "code",
   "execution_count": 14,
   "metadata": {},
   "outputs": [],
   "source": [
    "X_train, X_test, y_train, y_test = train_test_split(X_non_sparse, y_poly, test_size=0.2, random_state=42)"
   ]
  },
  {
   "cell_type": "code",
   "execution_count": 15,
   "metadata": {},
   "outputs": [
    {
     "output_type": "execute_result",
     "data": {
      "text/plain": [
       "Pipeline(steps=[('scaler', StandardScaler()),\n",
       "                ('svm_clf',\n",
       "                 OneVsRestClassifier(estimator=SVC(C=5, coef0=1, degree=2,\n",
       "                                                   kernel='poly')))])"
      ]
     },
     "metadata": {},
     "execution_count": 15
    }
   ],
   "source": [
    "poly_kernel_svm_clf.fit(X_train, y_train)"
   ]
  },
  {
   "cell_type": "code",
   "execution_count": 16,
   "metadata": {},
   "outputs": [
    {
     "output_type": "stream",
     "name": "stdout",
     "text": [
      "              precision    recall  f1-score   support\n\n   Esophagus       1.00      1.00      1.00        23\n    Pancreas       1.00      1.00      1.00         7\n     Gastric       1.00      1.00      1.00        11\n       Other       0.00      0.00      0.00         0\n        Lung       1.00      1.00      1.00        20\n           O       0.00      0.00      0.00         0\n\n   micro avg       1.00      1.00      1.00        61\n   macro avg       0.67      0.67      0.67        61\nweighted avg       1.00      1.00      1.00        61\n samples avg       1.00      1.00      1.00        61\n\n"
     ]
    }
   ],
   "source": [
    "print(classification_report(y_test, poly_kernel_svm_clf.predict(X_test), target_names=['Esophagus', 'Pancreas', 'Gastric', 'Other', 'Lung', 'O']))"
   ]
  },
  {
   "cell_type": "code",
   "execution_count": 23,
   "metadata": {},
   "outputs": [
    {
     "output_type": "stream",
     "name": "stdout",
     "text": [
      "(61, 156)\n(244, 156)\n"
     ]
    }
   ],
   "source": [
    "print(X_test.shape)\n",
    "print(X_train.shape)"
   ]
  },
  {
   "cell_type": "code",
   "execution_count": 25,
   "metadata": {},
   "outputs": [
    {
     "output_type": "stream",
     "name": "stdout",
     "text": [
      "[0. 0. 1. 0. 0. 1. 0. 0. 1. 0. 0. 0. 0. 0. 0. 0. 0. 0. 0. 1. 0. 0. 0. 0.\n 0. 0. 0. 0. 0. 0. 0. 0. 0. 0. 0. 0. 0. 0. 0. 0. 0. 0. 0. 0. 0. 0. 0. 0.\n 0. 0. 0. 0. 0. 0. 0. 0. 0. 0. 0. 0. 0. 0. 0. 0. 0. 0. 0. 0. 0. 0. 0. 0.\n 0. 0. 0. 0. 0. 0. 0. 0. 0. 0. 0. 0. 0. 0. 0. 0. 0. 0. 0. 0. 0. 1. 0. 0.\n 0. 0. 0. 0. 0. 0. 0. 0. 0. 0. 0. 0. 0. 0. 0. 0. 0. 0. 0. 0. 0. 0. 0. 0.\n 0. 0. 0. 0. 0. 0. 0. 0. 0. 0. 0. 0. 0. 0. 0. 0. 0. 0. 0. 1. 0. 0. 0. 0.\n 0. 0. 0. 0. 0. 0. 0. 0. 0. 0. 0. 0.]\n"
     ]
    }
   ],
   "source": [
    "print(X_test[1])"
   ]
  },
  {
   "source": [
    "# LinearSVC model "
   ],
   "cell_type": "markdown",
   "metadata": {}
  },
  {
   "cell_type": "code",
   "execution_count": 36,
   "metadata": {},
   "outputs": [
    {
     "output_type": "stream",
     "name": "stdout",
     "text": [
      "(244, 156)\n(61, 156)\n(244,)\n(61,)\n"
     ]
    }
   ],
   "source": [
    "# Encode X and keep y as a 1d array. So we are not seperating the classes to be seperate features. LinearSVC doesn't train on y as a 2d array. \n",
    "\n",
    "X_encoded = non_sprase_encoder.fit_transform(X)\n",
    "\n",
    "X_train, X_test, y_train, y_test = train_test_split(X_encoded, y, test_size=0.2, random_state=42)\n",
    "\n",
    "print(X_train.shape)\n",
    "print(X_test.shape)\n",
    "print(y_train.shape)\n",
    "print(y_test.shape)"
   ]
  },
  {
   "cell_type": "code",
   "execution_count": 39,
   "metadata": {},
   "outputs": [],
   "source": [
    "from sklearn.svm import LinearSVC\n",
    "from sklearn.preprocessing import PolynomialFeatures\n",
    "\n",
    "lin_svc_clf = Pipeline([\n",
    "    (\"poly_feat\", PolynomialFeatures(degree=2)),\n",
    "    (\"scaler\", StandardScaler()),\n",
    "    (\"svc_clf\", LinearSVC(C=10, dual=False, random_state=42))\n",
    "])"
   ]
  },
  {
   "cell_type": "code",
   "execution_count": 40,
   "metadata": {},
   "outputs": [
    {
     "output_type": "execute_result",
     "data": {
      "text/plain": [
       "Pipeline(steps=[('poly_feat', PolynomialFeatures()),\n",
       "                ('scaler', StandardScaler()),\n",
       "                ('svc_clf', LinearSVC(C=10, dual=False, random_state=42))])"
      ]
     },
     "metadata": {},
     "execution_count": 40
    }
   ],
   "source": [
    "lin_svc_clf.fit(X_train, y_train)"
   ]
  },
  {
   "cell_type": "code",
   "execution_count": 41,
   "metadata": {},
   "outputs": [
    {
     "output_type": "stream",
     "name": "stdout",
     "text": [
      "              precision    recall  f1-score   support\n\n   Esophagus       1.00      1.00      1.00        23\n     Gastric       1.00      1.00      1.00        11\n        Lung       1.00      1.00      1.00        20\n    Pancreas       1.00      1.00      1.00         7\n\n    accuracy                           1.00        61\n   macro avg       1.00      1.00      1.00        61\nweighted avg       1.00      1.00      1.00        61\n\n"
     ]
    }
   ],
   "source": [
    "print(classification_report(y_test, lin_svc_clf.predict(X_test)))"
   ]
  },
  {
   "cell_type": "code",
   "execution_count": 44,
   "metadata": {},
   "outputs": [
    {
     "output_type": "execute_result",
     "data": {
      "text/plain": [
       "array(['Lung', 'Pancreas', 'Gastric', 'Esophagus', 'Other', 'O'],\n",
       "      dtype=object)"
      ]
     },
     "metadata": {},
     "execution_count": 44
    }
   ],
   "source": [
    "y_train.unique()"
   ]
  },
  {
   "cell_type": "code",
   "execution_count": 48,
   "metadata": {},
   "outputs": [
    {
     "output_type": "execute_result",
     "data": {
      "text/plain": [
       "array(['Lung'], dtype=object)"
      ]
     },
     "metadata": {},
     "execution_count": 48
    }
   ],
   "source": [
    "lin_svc_clf.predict(X_test[[1]])"
   ]
  },
  {
   "cell_type": "code",
   "execution_count": 54,
   "metadata": {},
   "outputs": [
    {
     "output_type": "execute_result",
     "data": {
      "text/plain": [
       "array([[-0.52562228, -0.86066678,  0.75463809, -0.99196328, -0.98328239,\n",
       "        -0.85465087],\n",
       "       [-1.00000617, -0.99995366,  1.60245119, -0.99981807, -0.99982376,\n",
       "        -0.99995392],\n",
       "       [-0.83359237,  0.96737335, -0.93043959, -0.99438871, -0.99926791,\n",
       "        -1.0048467 ],\n",
       "       [-0.96972568, -0.9897694 ,  1.48794843, -0.99921544, -0.99573459,\n",
       "        -0.98836163],\n",
       "       [ 1.65286434, -1.00000244, -1.00037809, -0.99978695, -0.99980042,\n",
       "        -0.99993398],\n",
       "       [-1.27396666,  1.65883352, -0.94223145, -0.99254188, -1.01225041,\n",
       "        -0.94519432],\n",
       "       [-0.96624416, -0.98928925,  1.47373614, -0.99922627, -0.99881626,\n",
       "        -0.99059228],\n",
       "       [-1.00174485, -0.99995184,  1.60468533, -0.99981743, -0.99982249,\n",
       "        -0.99998171],\n",
       "       [ 1.62341267, -0.99989467, -1.00044633, -0.99978547, -0.99977683,\n",
       "        -0.99992137],\n",
       "       [-1.27396666,  1.65883352, -0.94223145, -0.99254188, -1.01225041,\n",
       "        -0.94519432],\n",
       "       [ 1.19039237, -0.9953587 , -0.91805541, -1.00602719, -0.84175593,\n",
       "        -0.96338179],\n",
       "       [ 1.68572342, -0.99997877, -1.00616388, -0.9997844 , -0.99989304,\n",
       "        -0.99993589],\n",
       "       [ 1.66141017, -1.00002057, -1.00467521, -0.99980215, -0.99981216,\n",
       "        -0.99994618],\n",
       "       [-0.96633306, -0.9892782 ,  1.48794843, -0.99921173, -0.99828935,\n",
       "        -0.98849725],\n",
       "       [-0.69051163, -0.9394341 , -0.76182319, -0.99732846, -0.99389095,\n",
       "         0.70090037],\n",
       "       [ 1.09564609, -0.93573602, -0.67843051, -0.98774012, -0.9986988 ,\n",
       "        -0.93325759],\n",
       "       [ 1.61162207, -1.02823031, -0.99999625, -0.99982337, -0.9997913 ,\n",
       "        -0.99995242],\n",
       "       [ 1.71508279, -0.99991834, -1.01964666, -0.9998095 , -0.9997838 ,\n",
       "        -0.99994713],\n",
       "       [-0.99992282, -0.99994851,  1.57169354, -0.99981699, -0.99982195,\n",
       "        -0.9999809 ],\n",
       "       [-0.96502688, -0.98922931,  1.46813919, -0.9992708 , -1.00443743,\n",
       "        -0.99068853],\n",
       "       [-0.9664236 , -0.98956036,  1.49885379, -0.99921935, -0.99749313,\n",
       "        -0.98859661],\n",
       "       [ 1.66002532, -0.99998059, -1.01179394, -0.99979475, -0.99975914,\n",
       "        -0.99992835],\n",
       "       [-0.947453  , -0.92411096, -0.93358447, -0.98755732, -0.98662481,\n",
       "         1.03621082],\n",
       "       [-0.99983644,  1.41363471, -0.97098482, -0.9992908 , -0.99887855,\n",
       "        -0.98593571],\n",
       "       [ 1.02484113, -1.00604422, -0.4326924 , -0.99327456, -0.99627301,\n",
       "        -0.97497893],\n",
       "       [-1.00000617, -0.99995366,  1.60245119, -0.99981807, -0.99982376,\n",
       "        -0.99995392],\n",
       "       [-0.9664236 , -0.98956036,  1.49885379, -0.99921935, -0.99749313,\n",
       "        -0.98859661],\n",
       "       [-0.89654127, -0.86777992, -0.96581791, -0.99972515, -0.99612023,\n",
       "         1.05174965],\n",
       "       [-0.99992282, -0.99994851,  1.57169354, -0.99981699, -0.99982195,\n",
       "        -0.9999809 ],\n",
       "       [ 1.66141017, -1.00002057, -1.00467521, -0.99980215, -0.99981216,\n",
       "        -0.99994618],\n",
       "       [ 1.47476875, -0.96780381, -1.16648709, -0.99947974, -0.9994114 ,\n",
       "        -0.93460113],\n",
       "       [ 1.63023169, -1.00000959, -0.99989929, -0.99978587, -0.99983028,\n",
       "        -1.00339718],\n",
       "       [-0.51124833, -0.85754608,  0.70099836, -0.99204273, -1.00895488,\n",
       "        -0.85918262],\n",
       "       [ 1.54091728, -0.99002914, -0.8192128 , -0.99757915, -0.97667423,\n",
       "        -1.01347719],\n",
       "       [-0.89654127, -0.86777992, -0.96581791, -0.99972515, -0.99612023,\n",
       "         1.05174965],\n",
       "       [-1.00181767, -0.99993343,  1.59302748, -0.99981692, -0.99982287,\n",
       "        -0.99997685],\n",
       "       [ 1.68572342, -0.99997877, -1.00616388, -0.9997844 , -0.99989304,\n",
       "        -0.99993589],\n",
       "       [ 1.62341267, -0.99989467, -1.00044633, -0.99978547, -0.99977683,\n",
       "        -0.99992137],\n",
       "       [ 1.64788412, -0.99998979, -1.00147662, -0.9998065 , -0.99979583,\n",
       "        -0.99995615],\n",
       "       [ 1.17044371, -0.96012076, -0.68874044, -0.99715285, -0.99330057,\n",
       "        -0.92706752],\n",
       "       [-0.58857237,  0.87670266, -0.7603564 , -0.99664103, -0.99296706,\n",
       "        -1.02739168],\n",
       "       [ 1.60253548, -0.99996258, -1.00351065, -0.99978933, -0.99981805,\n",
       "        -0.99993211],\n",
       "       [-1.00000617, -0.99995366,  1.60245119, -0.99981807, -0.99982376,\n",
       "        -0.99995392],\n",
       "       [-0.81871802,  0.42308236, -0.7028848 , -0.99460173, -0.99151876,\n",
       "        -0.49689089],\n",
       "       [ 1.53292411, -0.98606618, -0.92786011, -1.00888019, -1.00360763,\n",
       "        -0.95491708],\n",
       "       [-0.94888054, -0.81647069, -0.96728671, -0.99911453, -1.00172567,\n",
       "         0.99282608],\n",
       "       [-1.00174485, -0.99995184,  1.60468533, -0.99981743, -0.99982249,\n",
       "        -0.99998171],\n",
       "       [-0.57160472,  0.70082393, -0.90225335, -0.99766817, -0.99582927,\n",
       "        -0.97245261],\n",
       "       [-0.62365535,  0.92459738, -1.10735576, -1.00445155, -0.99852344,\n",
       "        -0.96810287],\n",
       "       [ 1.49295493, -0.95353547, -1.04070334, -0.99818579, -1.00307535,\n",
       "        -0.9708198 ],\n",
       "       [-0.99992026, -0.99995313,  1.61147276, -0.99981784, -0.99982406,\n",
       "        -0.99996878],\n",
       "       [-0.96193788, -0.98893607,  1.46398051, -0.99918998, -0.99791529,\n",
       "        -0.98844159],\n",
       "       [-0.45538083,  0.98215073, -0.99337485, -0.99961313, -0.99677914,\n",
       "        -1.13615049],\n",
       "       [-0.70483718, -0.91357352,  1.05007867, -0.9950769 , -1.00252045,\n",
       "        -0.91428143],\n",
       "       [-1.01907636,  1.11274115, -1.00117228, -0.99982234, -0.99981584,\n",
       "        -0.9999462 ],\n",
       "       [ 1.14933611, -0.93944623, -0.69416433, -0.99669647, -0.9933048 ,\n",
       "        -0.91839057],\n",
       "       [ 1.61162207, -1.02823031, -0.99999625, -0.99982337, -0.9997913 ,\n",
       "        -0.99995242],\n",
       "       [-0.09737084,  0.6424415 , -0.9812349 , -1.00500736, -0.99655033,\n",
       "        -0.99448694],\n",
       "       [-0.97593938, -1.04324733, -0.93652947, -0.98968457, -0.99123608,\n",
       "         1.18316224],\n",
       "       [-0.9664236 , -0.98956036,  1.49885379, -0.99921935, -0.99749313,\n",
       "        -0.98859661],\n",
       "       [-0.54315241, -0.88165199, -0.51538653, -0.9866774 , -1.00555099,\n",
       "         0.33679604]])"
      ]
     },
     "metadata": {},
     "execution_count": 54
    }
   ],
   "source": [
    "lin_svc_scores = lin_svc_clf.decision_function(X_test)\n",
    "lin_svc_scores"
   ]
  },
  {
   "source": [
    "# Run the Decsion_function on the SVC model. See what the scores are for each class. \n",
    "\n",
    "We also need new data the model hasn't seen to see if it is predicting/estimating correctly. "
   ],
   "cell_type": "markdown",
   "metadata": {}
  },
  {
   "cell_type": "code",
   "execution_count": 56,
   "metadata": {},
   "outputs": [
    {
     "output_type": "execute_result",
     "data": {
      "text/plain": [
       "1.0"
      ]
     },
     "metadata": {},
     "execution_count": 56
    }
   ],
   "source": [
    "lin_svc_scored = lin_svc_clf.score(X_test, y_test) \n",
    "lin_svc_scored"
   ]
  },
  {
   "cell_type": "code",
   "execution_count": null,
   "metadata": {},
   "outputs": [],
   "source": []
  }
 ]
}
