{
 "metadata": {
  "language_info": {
   "codemirror_mode": {
    "name": "ipython",
    "version": 3
   },
   "file_extension": ".py",
   "mimetype": "text/x-python",
   "name": "python",
   "nbconvert_exporter": "python",
   "pygments_lexer": "ipython3",
   "version": "3.7.4-final"
  },
  "orig_nbformat": 2,
  "kernelspec": {
   "name": "python37432bit62314d65f2bf42b0992582f28e4a1f63",
   "display_name": "Python 3.7.4 32-bit",
   "language": "python"
  }
 },
 "nbformat": 4,
 "nbformat_minor": 2,
 "cells": [
  {
   "source": [
    "# Classifying the missing Service "
   ],
   "cell_type": "markdown",
   "metadata": {}
  },
  {
   "cell_type": "code",
   "execution_count": 1,
   "metadata": {},
   "outputs": [],
   "source": [
    "missing_path = 'C:/Users/e745092/Desktop/Visual Studio/missing_service.csv'\n",
    "\n",
    "path = 'C:/Users/e745092/Desktop/Visual Studio/OR_Cases_2020.csv'\n",
    "\n",
    "import pandas as pd \n",
    "\n",
    "data = pd.read_csv(path)"
   ]
  },
  {
   "cell_type": "code",
   "execution_count": 2,
   "metadata": {},
   "outputs": [
    {
     "output_type": "execute_result",
     "data": {
      "text/plain": [
       "   Lead Surgeon       Date       MRN  \\\n",
       "0        142333   1/6/2020   2348312   \n",
       "1        131184   1/6/2020   8705179   \n",
       "2        152600   1/8/2020  15415485   \n",
       "3        152600   1/9/2020  14936925   \n",
       "4        122994  1/10/2020   8796688   \n",
       "\n",
       "                                     Diagnosis Codes  \\\n",
       "0               Gastric adenocarcinoma (HCC) [C16.9]   \n",
       "1       Chronic fibrosing pancreatitis (HCC) [K86.1]   \n",
       "2  Malignant neoplasm of abdominal esophagus (HCC...   \n",
       "3         History of esophagectomy [Z98.890, Z90.49]   \n",
       "4  Malignant neoplasm of lesser curvature of stom...   \n",
       "\n",
       "                                     Case Procedures     Service Case Indx  \\\n",
       "0  Laparoscopic Subtotal Gastrectomy With Roux-En...     General         Y   \n",
       "1  Total Pancreatectomy, Auto Islet Cell Transpla...  Transplant         Y   \n",
       "2  Minimally Invasive Esophagectomy Ivor Lewis [4...    Thoracic         Y   \n",
       "3        Esophagogastroduodenoscopy W/ Dilation [78]    Thoracic         Y   \n",
       "4  Egd [688], Laparoscopic Distal  Gastrectomy Wi...     General         Y   \n",
       "\n",
       "  Primary Categ Sub Categ  \n",
       "0     Esophagus         G  \n",
       "1      Pancreas         P  \n",
       "2     Esophagus         E  \n",
       "3     Esophagus     E-HxE  \n",
       "4       Gastric         G  "
      ],
      "text/html": "<div>\n<style scoped>\n    .dataframe tbody tr th:only-of-type {\n        vertical-align: middle;\n    }\n\n    .dataframe tbody tr th {\n        vertical-align: top;\n    }\n\n    .dataframe thead th {\n        text-align: right;\n    }\n</style>\n<table border=\"1\" class=\"dataframe\">\n  <thead>\n    <tr style=\"text-align: right;\">\n      <th></th>\n      <th>Lead Surgeon</th>\n      <th>Date</th>\n      <th>MRN</th>\n      <th>Diagnosis Codes</th>\n      <th>Case Procedures</th>\n      <th>Service</th>\n      <th>Case Indx</th>\n      <th>Primary Categ</th>\n      <th>Sub Categ</th>\n    </tr>\n  </thead>\n  <tbody>\n    <tr>\n      <th>0</th>\n      <td>142333</td>\n      <td>1/6/2020</td>\n      <td>2348312</td>\n      <td>Gastric adenocarcinoma (HCC) [C16.9]</td>\n      <td>Laparoscopic Subtotal Gastrectomy With Roux-En...</td>\n      <td>General</td>\n      <td>Y</td>\n      <td>Esophagus</td>\n      <td>G</td>\n    </tr>\n    <tr>\n      <th>1</th>\n      <td>131184</td>\n      <td>1/6/2020</td>\n      <td>8705179</td>\n      <td>Chronic fibrosing pancreatitis (HCC) [K86.1]</td>\n      <td>Total Pancreatectomy, Auto Islet Cell Transpla...</td>\n      <td>Transplant</td>\n      <td>Y</td>\n      <td>Pancreas</td>\n      <td>P</td>\n    </tr>\n    <tr>\n      <th>2</th>\n      <td>152600</td>\n      <td>1/8/2020</td>\n      <td>15415485</td>\n      <td>Malignant neoplasm of abdominal esophagus (HCC...</td>\n      <td>Minimally Invasive Esophagectomy Ivor Lewis [4...</td>\n      <td>Thoracic</td>\n      <td>Y</td>\n      <td>Esophagus</td>\n      <td>E</td>\n    </tr>\n    <tr>\n      <th>3</th>\n      <td>152600</td>\n      <td>1/9/2020</td>\n      <td>14936925</td>\n      <td>History of esophagectomy [Z98.890, Z90.49]</td>\n      <td>Esophagogastroduodenoscopy W/ Dilation [78]</td>\n      <td>Thoracic</td>\n      <td>Y</td>\n      <td>Esophagus</td>\n      <td>E-HxE</td>\n    </tr>\n    <tr>\n      <th>4</th>\n      <td>122994</td>\n      <td>1/10/2020</td>\n      <td>8796688</td>\n      <td>Malignant neoplasm of lesser curvature of stom...</td>\n      <td>Egd [688], Laparoscopic Distal  Gastrectomy Wi...</td>\n      <td>General</td>\n      <td>Y</td>\n      <td>Gastric</td>\n      <td>G</td>\n    </tr>\n  </tbody>\n</table>\n</div>"
     },
     "metadata": {},
     "execution_count": 2
    }
   ],
   "source": [
    "data.head()"
   ]
  },
  {
   "cell_type": "code",
   "execution_count": 3,
   "metadata": {},
   "outputs": [],
   "source": [
    "data = data.dropna()"
   ]
  },
  {
   "cell_type": "code",
   "execution_count": 4,
   "metadata": {},
   "outputs": [
    {
     "output_type": "execute_result",
     "data": {
      "text/plain": [
       "(307, 9)"
      ]
     },
     "metadata": {},
     "execution_count": 4
    }
   ],
   "source": [
    "data.shape"
   ]
  },
  {
   "cell_type": "code",
   "execution_count": 5,
   "metadata": {},
   "outputs": [
    {
     "output_type": "execute_result",
     "data": {
      "text/plain": [
       "   Lead Surgeon       Date       MRN  \\\n",
       "0        142333   1/6/2020   2348312   \n",
       "1        131184   1/6/2020   8705179   \n",
       "2        152600   1/8/2020  15415485   \n",
       "3        152600   1/9/2020  14936925   \n",
       "4        122994  1/10/2020   8796688   \n",
       "\n",
       "                                     Diagnosis Codes  \\\n",
       "0               Gastric adenocarcinoma (HCC) [C16.9]   \n",
       "1       Chronic fibrosing pancreatitis (HCC) [K86.1]   \n",
       "2  Malignant neoplasm of abdominal esophagus (HCC...   \n",
       "3         History of esophagectomy [Z98.890, Z90.49]   \n",
       "4  Malignant neoplasm of lesser curvature of stom...   \n",
       "\n",
       "                                     Case Procedures     Service Case Indx  \\\n",
       "0  Laparoscopic Subtotal Gastrectomy With Roux-En...     General         Y   \n",
       "1  Total Pancreatectomy, Auto Islet Cell Transpla...  Transplant         Y   \n",
       "2  Minimally Invasive Esophagectomy Ivor Lewis [4...    Thoracic         Y   \n",
       "3        Esophagogastroduodenoscopy W/ Dilation [78]    Thoracic         Y   \n",
       "4  Egd [688], Laparoscopic Distal  Gastrectomy Wi...     General         Y   \n",
       "\n",
       "  Primary Categ Sub Categ  \n",
       "0     Esophagus         G  \n",
       "1      Pancreas         P  \n",
       "2     Esophagus         E  \n",
       "3     Esophagus     E-HxE  \n",
       "4       Gastric         G  "
      ],
      "text/html": "<div>\n<style scoped>\n    .dataframe tbody tr th:only-of-type {\n        vertical-align: middle;\n    }\n\n    .dataframe tbody tr th {\n        vertical-align: top;\n    }\n\n    .dataframe thead th {\n        text-align: right;\n    }\n</style>\n<table border=\"1\" class=\"dataframe\">\n  <thead>\n    <tr style=\"text-align: right;\">\n      <th></th>\n      <th>Lead Surgeon</th>\n      <th>Date</th>\n      <th>MRN</th>\n      <th>Diagnosis Codes</th>\n      <th>Case Procedures</th>\n      <th>Service</th>\n      <th>Case Indx</th>\n      <th>Primary Categ</th>\n      <th>Sub Categ</th>\n    </tr>\n  </thead>\n  <tbody>\n    <tr>\n      <th>0</th>\n      <td>142333</td>\n      <td>1/6/2020</td>\n      <td>2348312</td>\n      <td>Gastric adenocarcinoma (HCC) [C16.9]</td>\n      <td>Laparoscopic Subtotal Gastrectomy With Roux-En...</td>\n      <td>General</td>\n      <td>Y</td>\n      <td>Esophagus</td>\n      <td>G</td>\n    </tr>\n    <tr>\n      <th>1</th>\n      <td>131184</td>\n      <td>1/6/2020</td>\n      <td>8705179</td>\n      <td>Chronic fibrosing pancreatitis (HCC) [K86.1]</td>\n      <td>Total Pancreatectomy, Auto Islet Cell Transpla...</td>\n      <td>Transplant</td>\n      <td>Y</td>\n      <td>Pancreas</td>\n      <td>P</td>\n    </tr>\n    <tr>\n      <th>2</th>\n      <td>152600</td>\n      <td>1/8/2020</td>\n      <td>15415485</td>\n      <td>Malignant neoplasm of abdominal esophagus (HCC...</td>\n      <td>Minimally Invasive Esophagectomy Ivor Lewis [4...</td>\n      <td>Thoracic</td>\n      <td>Y</td>\n      <td>Esophagus</td>\n      <td>E</td>\n    </tr>\n    <tr>\n      <th>3</th>\n      <td>152600</td>\n      <td>1/9/2020</td>\n      <td>14936925</td>\n      <td>History of esophagectomy [Z98.890, Z90.49]</td>\n      <td>Esophagogastroduodenoscopy W/ Dilation [78]</td>\n      <td>Thoracic</td>\n      <td>Y</td>\n      <td>Esophagus</td>\n      <td>E-HxE</td>\n    </tr>\n    <tr>\n      <th>4</th>\n      <td>122994</td>\n      <td>1/10/2020</td>\n      <td>8796688</td>\n      <td>Malignant neoplasm of lesser curvature of stom...</td>\n      <td>Egd [688], Laparoscopic Distal  Gastrectomy Wi...</td>\n      <td>General</td>\n      <td>Y</td>\n      <td>Gastric</td>\n      <td>G</td>\n    </tr>\n  </tbody>\n</table>\n</div>"
     },
     "metadata": {},
     "execution_count": 5
    }
   ],
   "source": [
    "data.head()"
   ]
  },
  {
   "cell_type": "code",
   "execution_count": 6,
   "metadata": {},
   "outputs": [
    {
     "output_type": "execute_result",
     "data": {
      "text/plain": [
       "array(['General', 'Transplant', 'Thoracic'], dtype=object)"
      ]
     },
     "metadata": {},
     "execution_count": 6
    }
   ],
   "source": [
    "from sklearn.preprocessing import OneHotEncoder, StandardScaler\n",
    "from sklearn.model_selection import train_test_split\n",
    "\n",
    "data['Service'].unique()\n"
   ]
  },
  {
   "cell_type": "code",
   "execution_count": 7,
   "metadata": {},
   "outputs": [],
   "source": [
    "import re\n",
    "\n",
    "data['DX1']=data['Diagnosis Codes'].apply(lambda x: re.findall('\\[(.*?)\\]',x))\n",
    "# print(data['DX'])\n",
    "data['Procedure Codes1']=data['Case Procedures'].apply(lambda x: re.findall('\\[(.*?)\\]',x))\n",
    "#print(data['Procedure Codes'])"
   ]
  },
  {
   "cell_type": "code",
   "execution_count": 8,
   "metadata": {},
   "outputs": [
    {
     "output_type": "execute_result",
     "data": {
      "text/plain": [
       "   Lead Surgeon       Date       MRN  \\\n",
       "0        142333   1/6/2020   2348312   \n",
       "1        131184   1/6/2020   8705179   \n",
       "2        152600   1/8/2020  15415485   \n",
       "3        152600   1/9/2020  14936925   \n",
       "4        122994  1/10/2020   8796688   \n",
       "\n",
       "                                     Diagnosis Codes  \\\n",
       "0               Gastric adenocarcinoma (HCC) [C16.9]   \n",
       "1       Chronic fibrosing pancreatitis (HCC) [K86.1]   \n",
       "2  Malignant neoplasm of abdominal esophagus (HCC...   \n",
       "3         History of esophagectomy [Z98.890, Z90.49]   \n",
       "4  Malignant neoplasm of lesser curvature of stom...   \n",
       "\n",
       "                                     Case Procedures     Service Case Indx  \\\n",
       "0  Laparoscopic Subtotal Gastrectomy With Roux-En...     General         Y   \n",
       "1  Total Pancreatectomy, Auto Islet Cell Transpla...  Transplant         Y   \n",
       "2  Minimally Invasive Esophagectomy Ivor Lewis [4...    Thoracic         Y   \n",
       "3        Esophagogastroduodenoscopy W/ Dilation [78]    Thoracic         Y   \n",
       "4  Egd [688], Laparoscopic Distal  Gastrectomy Wi...     General         Y   \n",
       "\n",
       "  Primary Categ Sub Categ                DX1          Procedure Codes1  \\\n",
       "0     Esophagus         G            [C16.9]  [1075612297, 1075612211]   \n",
       "1      Pancreas         P            [K86.1]  [1075612630, 1075611937]   \n",
       "2     Esophagus         E            [C15.5]  [43287, 1075617378, 688]   \n",
       "3     Esophagus     E-HxE  [Z98.890, Z90.49]                      [78]   \n",
       "4       Gastric         G            [C16.5]         [688, 1070000770]   \n",
       "\n",
       "          DX_Codes         Procedure_Codes  \n",
       "0            C16.9  1075612297, 1075612211  \n",
       "1            K86.1  1075612630, 1075611937  \n",
       "2            C15.5  43287, 1075617378, 688  \n",
       "3  Z98.890, Z90.49                      78  \n",
       "4            C16.5         688, 1070000770  "
      ],
      "text/html": "<div>\n<style scoped>\n    .dataframe tbody tr th:only-of-type {\n        vertical-align: middle;\n    }\n\n    .dataframe tbody tr th {\n        vertical-align: top;\n    }\n\n    .dataframe thead th {\n        text-align: right;\n    }\n</style>\n<table border=\"1\" class=\"dataframe\">\n  <thead>\n    <tr style=\"text-align: right;\">\n      <th></th>\n      <th>Lead Surgeon</th>\n      <th>Date</th>\n      <th>MRN</th>\n      <th>Diagnosis Codes</th>\n      <th>Case Procedures</th>\n      <th>Service</th>\n      <th>Case Indx</th>\n      <th>Primary Categ</th>\n      <th>Sub Categ</th>\n      <th>DX1</th>\n      <th>Procedure Codes1</th>\n      <th>DX_Codes</th>\n      <th>Procedure_Codes</th>\n    </tr>\n  </thead>\n  <tbody>\n    <tr>\n      <th>0</th>\n      <td>142333</td>\n      <td>1/6/2020</td>\n      <td>2348312</td>\n      <td>Gastric adenocarcinoma (HCC) [C16.9]</td>\n      <td>Laparoscopic Subtotal Gastrectomy With Roux-En...</td>\n      <td>General</td>\n      <td>Y</td>\n      <td>Esophagus</td>\n      <td>G</td>\n      <td>[C16.9]</td>\n      <td>[1075612297, 1075612211]</td>\n      <td>C16.9</td>\n      <td>1075612297, 1075612211</td>\n    </tr>\n    <tr>\n      <th>1</th>\n      <td>131184</td>\n      <td>1/6/2020</td>\n      <td>8705179</td>\n      <td>Chronic fibrosing pancreatitis (HCC) [K86.1]</td>\n      <td>Total Pancreatectomy, Auto Islet Cell Transpla...</td>\n      <td>Transplant</td>\n      <td>Y</td>\n      <td>Pancreas</td>\n      <td>P</td>\n      <td>[K86.1]</td>\n      <td>[1075612630, 1075611937]</td>\n      <td>K86.1</td>\n      <td>1075612630, 1075611937</td>\n    </tr>\n    <tr>\n      <th>2</th>\n      <td>152600</td>\n      <td>1/8/2020</td>\n      <td>15415485</td>\n      <td>Malignant neoplasm of abdominal esophagus (HCC...</td>\n      <td>Minimally Invasive Esophagectomy Ivor Lewis [4...</td>\n      <td>Thoracic</td>\n      <td>Y</td>\n      <td>Esophagus</td>\n      <td>E</td>\n      <td>[C15.5]</td>\n      <td>[43287, 1075617378, 688]</td>\n      <td>C15.5</td>\n      <td>43287, 1075617378, 688</td>\n    </tr>\n    <tr>\n      <th>3</th>\n      <td>152600</td>\n      <td>1/9/2020</td>\n      <td>14936925</td>\n      <td>History of esophagectomy [Z98.890, Z90.49]</td>\n      <td>Esophagogastroduodenoscopy W/ Dilation [78]</td>\n      <td>Thoracic</td>\n      <td>Y</td>\n      <td>Esophagus</td>\n      <td>E-HxE</td>\n      <td>[Z98.890, Z90.49]</td>\n      <td>[78]</td>\n      <td>Z98.890, Z90.49</td>\n      <td>78</td>\n    </tr>\n    <tr>\n      <th>4</th>\n      <td>122994</td>\n      <td>1/10/2020</td>\n      <td>8796688</td>\n      <td>Malignant neoplasm of lesser curvature of stom...</td>\n      <td>Egd [688], Laparoscopic Distal  Gastrectomy Wi...</td>\n      <td>General</td>\n      <td>Y</td>\n      <td>Gastric</td>\n      <td>G</td>\n      <td>[C16.5]</td>\n      <td>[688, 1070000770]</td>\n      <td>C16.5</td>\n      <td>688, 1070000770</td>\n    </tr>\n  </tbody>\n</table>\n</div>"
     },
     "metadata": {},
     "execution_count": 8
    }
   ],
   "source": [
    "data['DX_Codes'] = data['DX1'].str.get(0)\n",
    "# data['Procedure_Codes'] = data['Procedure Codes1'].str.get(0)\n",
    "data['Procedure_Codes'] =  data['Procedure Codes1'].str.join(', ')\n",
    "data.head()"
   ]
  },
  {
   "cell_type": "code",
   "execution_count": 9,
   "metadata": {},
   "outputs": [
    {
     "output_type": "stream",
     "name": "stdout",
     "text": [
      "(307, 5)\n(307,)\n"
     ]
    }
   ],
   "source": [
    "X = data.drop(['Lead Surgeon', 'Date', 'MRN', 'Diagnosis Codes', 'Case Procedures', 'Service', 'DX1', 'Procedure Codes1'], axis=1)\n",
    "y = data['Service']\n",
    "print(X.shape)\n",
    "print(y.shape)"
   ]
  },
  {
   "cell_type": "code",
   "execution_count": 10,
   "metadata": {},
   "outputs": [
    {
     "output_type": "execute_result",
     "data": {
      "text/plain": [
       "  Case Indx Primary Categ Sub Categ         DX_Codes         Procedure_Codes\n",
       "0         Y     Esophagus         G            C16.9  1075612297, 1075612211\n",
       "1         Y      Pancreas         P            K86.1  1075612630, 1075611937\n",
       "2         Y     Esophagus         E            C15.5  43287, 1075617378, 688\n",
       "3         Y     Esophagus     E-HxE  Z98.890, Z90.49                      78\n",
       "4         Y       Gastric         G            C16.5         688, 1070000770"
      ],
      "text/html": "<div>\n<style scoped>\n    .dataframe tbody tr th:only-of-type {\n        vertical-align: middle;\n    }\n\n    .dataframe tbody tr th {\n        vertical-align: top;\n    }\n\n    .dataframe thead th {\n        text-align: right;\n    }\n</style>\n<table border=\"1\" class=\"dataframe\">\n  <thead>\n    <tr style=\"text-align: right;\">\n      <th></th>\n      <th>Case Indx</th>\n      <th>Primary Categ</th>\n      <th>Sub Categ</th>\n      <th>DX_Codes</th>\n      <th>Procedure_Codes</th>\n    </tr>\n  </thead>\n  <tbody>\n    <tr>\n      <th>0</th>\n      <td>Y</td>\n      <td>Esophagus</td>\n      <td>G</td>\n      <td>C16.9</td>\n      <td>1075612297, 1075612211</td>\n    </tr>\n    <tr>\n      <th>1</th>\n      <td>Y</td>\n      <td>Pancreas</td>\n      <td>P</td>\n      <td>K86.1</td>\n      <td>1075612630, 1075611937</td>\n    </tr>\n    <tr>\n      <th>2</th>\n      <td>Y</td>\n      <td>Esophagus</td>\n      <td>E</td>\n      <td>C15.5</td>\n      <td>43287, 1075617378, 688</td>\n    </tr>\n    <tr>\n      <th>3</th>\n      <td>Y</td>\n      <td>Esophagus</td>\n      <td>E-HxE</td>\n      <td>Z98.890, Z90.49</td>\n      <td>78</td>\n    </tr>\n    <tr>\n      <th>4</th>\n      <td>Y</td>\n      <td>Gastric</td>\n      <td>G</td>\n      <td>C16.5</td>\n      <td>688, 1070000770</td>\n    </tr>\n  </tbody>\n</table>\n</div>"
     },
     "metadata": {},
     "execution_count": 10
    }
   ],
   "source": [
    "encoder = OneHotEncoder(handle_unknown='ignore')\n",
    "\n",
    "X.head()"
   ]
  },
  {
   "cell_type": "code",
   "execution_count": 11,
   "metadata": {},
   "outputs": [],
   "source": [
    "X_encoded = encoder.fit_transform(X)\n",
    "\n",
    "X_train, X_test, y_train, y_test = train_test_split(X_encoded, y, test_size=0.2, random_state=42)"
   ]
  },
  {
   "cell_type": "code",
   "execution_count": 13,
   "metadata": {},
   "outputs": [
    {
     "output_type": "execute_result",
     "data": {
      "text/plain": [
       "LinearSVC(C=5, loss='hinge', random_state=42)"
      ]
     },
     "metadata": {},
     "execution_count": 13
    }
   ],
   "source": [
    "# LinearSVC model \n",
    "\n",
    "from sklearn.svm import LinearSVC\n",
    "\n",
    "lin_svc_clf = LinearSVC(C=5, loss='hinge', random_state=42)\n",
    "\n",
    "lin_svc_clf.fit(X_train, y_train)"
   ]
  },
  {
   "cell_type": "code",
   "execution_count": 15,
   "metadata": {},
   "outputs": [
    {
     "output_type": "stream",
     "name": "stdout",
     "text": [
      "              precision    recall  f1-score   support\n\n     General       0.92      0.92      0.92        24\n    Thoracic       0.94      0.94      0.94        33\n  Transplant       1.00      1.00      1.00         5\n\n    accuracy                           0.94        62\n   macro avg       0.95      0.95      0.95        62\nweighted avg       0.94      0.94      0.94        62\n\n"
     ]
    }
   ],
   "source": [
    "from sklearn.metrics import classification_report\n",
    "\n",
    "print(classification_report(y_test, lin_svc_clf.predict(X_test)))"
   ]
  },
  {
   "cell_type": "code",
   "execution_count": 16,
   "metadata": {},
   "outputs": [
    {
     "output_type": "execute_result",
     "data": {
      "text/plain": [
       "                                     Diagnosis Codes  \\\n",
       "0                  Gastric anastomotic leak [K91.89]   \n",
       "1  Malignant neoplasm of lower lobe of right lung...   \n",
       "2                                  Lung mass [R91.8]   \n",
       "3  Malignant neoplasm of upper lobe bronchus, lef...   \n",
       "4  Endotheliosarcoma (HCC) [C49.9]\\nLung nodule [...   \n",
       "\n",
       "                                     Case Procedures  Service Case Indx  \\\n",
       "0          Egd With Endosponge Exchange [1075612272]      NaN         Y   \n",
       "1  Right Video Assisted Thoracic Surgery Wedge Re...      NaN         Y   \n",
       "2  Bronchoscopy [1075611394], Cervical Mediastino...      NaN         Y   \n",
       "3  Bronchoscopy [1075611394], Cervical Mediastino...      NaN         Y   \n",
       "4  Right Video Assisted Thoracic Surgery Wedge Re...      NaN         Y   \n",
       "\n",
       "  Primary Categ Sub Categ  \n",
       "0       Gastric        LM  \n",
       "1          Lung      L-WR  \n",
       "2          Lung      L-LR  \n",
       "3          Lung      L-LR  \n",
       "4          Lung      L-WR  "
      ],
      "text/html": "<div>\n<style scoped>\n    .dataframe tbody tr th:only-of-type {\n        vertical-align: middle;\n    }\n\n    .dataframe tbody tr th {\n        vertical-align: top;\n    }\n\n    .dataframe thead th {\n        text-align: right;\n    }\n</style>\n<table border=\"1\" class=\"dataframe\">\n  <thead>\n    <tr style=\"text-align: right;\">\n      <th></th>\n      <th>Diagnosis Codes</th>\n      <th>Case Procedures</th>\n      <th>Service</th>\n      <th>Case Indx</th>\n      <th>Primary Categ</th>\n      <th>Sub Categ</th>\n    </tr>\n  </thead>\n  <tbody>\n    <tr>\n      <th>0</th>\n      <td>Gastric anastomotic leak [K91.89]</td>\n      <td>Egd With Endosponge Exchange [1075612272]</td>\n      <td>NaN</td>\n      <td>Y</td>\n      <td>Gastric</td>\n      <td>LM</td>\n    </tr>\n    <tr>\n      <th>1</th>\n      <td>Malignant neoplasm of lower lobe of right lung...</td>\n      <td>Right Video Assisted Thoracic Surgery Wedge Re...</td>\n      <td>NaN</td>\n      <td>Y</td>\n      <td>Lung</td>\n      <td>L-WR</td>\n    </tr>\n    <tr>\n      <th>2</th>\n      <td>Lung mass [R91.8]</td>\n      <td>Bronchoscopy [1075611394], Cervical Mediastino...</td>\n      <td>NaN</td>\n      <td>Y</td>\n      <td>Lung</td>\n      <td>L-LR</td>\n    </tr>\n    <tr>\n      <th>3</th>\n      <td>Malignant neoplasm of upper lobe bronchus, lef...</td>\n      <td>Bronchoscopy [1075611394], Cervical Mediastino...</td>\n      <td>NaN</td>\n      <td>Y</td>\n      <td>Lung</td>\n      <td>L-LR</td>\n    </tr>\n    <tr>\n      <th>4</th>\n      <td>Endotheliosarcoma (HCC) [C49.9]\\nLung nodule [...</td>\n      <td>Right Video Assisted Thoracic Surgery Wedge Re...</td>\n      <td>NaN</td>\n      <td>Y</td>\n      <td>Lung</td>\n      <td>L-WR</td>\n    </tr>\n  </tbody>\n</table>\n</div>"
     },
     "metadata": {},
     "execution_count": 16
    }
   ],
   "source": [
    "missing_service = pd.read_csv(missing_path)\n",
    "\n",
    "missing_service.head()"
   ]
  },
  {
   "cell_type": "code",
   "execution_count": 17,
   "metadata": {},
   "outputs": [
    {
     "output_type": "execute_result",
     "data": {
      "text/plain": [
       "Diagnosis Codes    False\n",
       "Case Procedures    False\n",
       "Service             True\n",
       "Case Indx          False\n",
       "Primary Categ      False\n",
       "Sub Categ          False\n",
       "dtype: bool"
      ]
     },
     "metadata": {},
     "execution_count": 17
    }
   ],
   "source": [
    "missing_service.isnull().any()"
   ]
  },
  {
   "cell_type": "code",
   "execution_count": 18,
   "metadata": {},
   "outputs": [],
   "source": [
    "missing_service = missing_service.drop('Service', axis=1)"
   ]
  },
  {
   "cell_type": "code",
   "execution_count": 19,
   "metadata": {},
   "outputs": [
    {
     "output_type": "execute_result",
     "data": {
      "text/plain": [
       "                                     Diagnosis Codes  \\\n",
       "0                  Gastric anastomotic leak [K91.89]   \n",
       "1  Malignant neoplasm of lower lobe of right lung...   \n",
       "2                                  Lung mass [R91.8]   \n",
       "3  Malignant neoplasm of upper lobe bronchus, lef...   \n",
       "4  Endotheliosarcoma (HCC) [C49.9]\\nLung nodule [...   \n",
       "\n",
       "                                     Case Procedures Case Indx Primary Categ  \\\n",
       "0          Egd With Endosponge Exchange [1075612272]         Y       Gastric   \n",
       "1  Right Video Assisted Thoracic Surgery Wedge Re...         Y          Lung   \n",
       "2  Bronchoscopy [1075611394], Cervical Mediastino...         Y          Lung   \n",
       "3  Bronchoscopy [1075611394], Cervical Mediastino...         Y          Lung   \n",
       "4  Right Video Assisted Thoracic Surgery Wedge Re...         Y          Lung   \n",
       "\n",
       "  Sub Categ  \n",
       "0        LM  \n",
       "1      L-WR  \n",
       "2      L-LR  \n",
       "3      L-LR  \n",
       "4      L-WR  "
      ],
      "text/html": "<div>\n<style scoped>\n    .dataframe tbody tr th:only-of-type {\n        vertical-align: middle;\n    }\n\n    .dataframe tbody tr th {\n        vertical-align: top;\n    }\n\n    .dataframe thead th {\n        text-align: right;\n    }\n</style>\n<table border=\"1\" class=\"dataframe\">\n  <thead>\n    <tr style=\"text-align: right;\">\n      <th></th>\n      <th>Diagnosis Codes</th>\n      <th>Case Procedures</th>\n      <th>Case Indx</th>\n      <th>Primary Categ</th>\n      <th>Sub Categ</th>\n    </tr>\n  </thead>\n  <tbody>\n    <tr>\n      <th>0</th>\n      <td>Gastric anastomotic leak [K91.89]</td>\n      <td>Egd With Endosponge Exchange [1075612272]</td>\n      <td>Y</td>\n      <td>Gastric</td>\n      <td>LM</td>\n    </tr>\n    <tr>\n      <th>1</th>\n      <td>Malignant neoplasm of lower lobe of right lung...</td>\n      <td>Right Video Assisted Thoracic Surgery Wedge Re...</td>\n      <td>Y</td>\n      <td>Lung</td>\n      <td>L-WR</td>\n    </tr>\n    <tr>\n      <th>2</th>\n      <td>Lung mass [R91.8]</td>\n      <td>Bronchoscopy [1075611394], Cervical Mediastino...</td>\n      <td>Y</td>\n      <td>Lung</td>\n      <td>L-LR</td>\n    </tr>\n    <tr>\n      <th>3</th>\n      <td>Malignant neoplasm of upper lobe bronchus, lef...</td>\n      <td>Bronchoscopy [1075611394], Cervical Mediastino...</td>\n      <td>Y</td>\n      <td>Lung</td>\n      <td>L-LR</td>\n    </tr>\n    <tr>\n      <th>4</th>\n      <td>Endotheliosarcoma (HCC) [C49.9]\\nLung nodule [...</td>\n      <td>Right Video Assisted Thoracic Surgery Wedge Re...</td>\n      <td>Y</td>\n      <td>Lung</td>\n      <td>L-WR</td>\n    </tr>\n  </tbody>\n</table>\n</div>"
     },
     "metadata": {},
     "execution_count": 19
    }
   ],
   "source": [
    "missing_service.head()"
   ]
  },
  {
   "cell_type": "code",
   "execution_count": 20,
   "metadata": {},
   "outputs": [
    {
     "output_type": "execute_result",
     "data": {
      "text/plain": [
       "                                     Diagnosis Codes  \\\n",
       "0                  Gastric anastomotic leak [K91.89]   \n",
       "1  Malignant neoplasm of lower lobe of right lung...   \n",
       "2                                  Lung mass [R91.8]   \n",
       "3  Malignant neoplasm of upper lobe bronchus, lef...   \n",
       "4  Endotheliosarcoma (HCC) [C49.9]\\nLung nodule [...   \n",
       "\n",
       "                                     Case Procedures Case Indx Primary Categ  \\\n",
       "0          Egd With Endosponge Exchange [1075612272]         Y       Gastric   \n",
       "1  Right Video Assisted Thoracic Surgery Wedge Re...         Y          Lung   \n",
       "2  Bronchoscopy [1075611394], Cervical Mediastino...         Y          Lung   \n",
       "3  Bronchoscopy [1075611394], Cervical Mediastino...         Y          Lung   \n",
       "4  Right Video Assisted Thoracic Surgery Wedge Re...         Y          Lung   \n",
       "\n",
       "  Sub Categ             DX1                            Procedure Codes1  \\\n",
       "0        LM        [K91.89]                                [1075612272]   \n",
       "1      L-WR        [C34.31]        [1075619445, 1075617883, 1075617882]   \n",
       "2      L-LR         [R91.8]  [1075611394, 1026, 1075611488, 1075611458]   \n",
       "3      L-LR        [C34.12]              [1075611394, 1026, 1075617883]   \n",
       "4      L-WR  [C49.9, R91.1]                                [1075617883]   \n",
       "\n",
       "  DX_Codes                           Procedure_Codes  \n",
       "0   K91.89                                1075612272  \n",
       "1   C34.31        1075619445, 1075617883, 1075617882  \n",
       "2    R91.8  1075611394, 1026, 1075611488, 1075611458  \n",
       "3   C34.12              1075611394, 1026, 1075617883  \n",
       "4    C49.9                                1075617883  "
      ],
      "text/html": "<div>\n<style scoped>\n    .dataframe tbody tr th:only-of-type {\n        vertical-align: middle;\n    }\n\n    .dataframe tbody tr th {\n        vertical-align: top;\n    }\n\n    .dataframe thead th {\n        text-align: right;\n    }\n</style>\n<table border=\"1\" class=\"dataframe\">\n  <thead>\n    <tr style=\"text-align: right;\">\n      <th></th>\n      <th>Diagnosis Codes</th>\n      <th>Case Procedures</th>\n      <th>Case Indx</th>\n      <th>Primary Categ</th>\n      <th>Sub Categ</th>\n      <th>DX1</th>\n      <th>Procedure Codes1</th>\n      <th>DX_Codes</th>\n      <th>Procedure_Codes</th>\n    </tr>\n  </thead>\n  <tbody>\n    <tr>\n      <th>0</th>\n      <td>Gastric anastomotic leak [K91.89]</td>\n      <td>Egd With Endosponge Exchange [1075612272]</td>\n      <td>Y</td>\n      <td>Gastric</td>\n      <td>LM</td>\n      <td>[K91.89]</td>\n      <td>[1075612272]</td>\n      <td>K91.89</td>\n      <td>1075612272</td>\n    </tr>\n    <tr>\n      <th>1</th>\n      <td>Malignant neoplasm of lower lobe of right lung...</td>\n      <td>Right Video Assisted Thoracic Surgery Wedge Re...</td>\n      <td>Y</td>\n      <td>Lung</td>\n      <td>L-WR</td>\n      <td>[C34.31]</td>\n      <td>[1075619445, 1075617883, 1075617882]</td>\n      <td>C34.31</td>\n      <td>1075619445, 1075617883, 1075617882</td>\n    </tr>\n    <tr>\n      <th>2</th>\n      <td>Lung mass [R91.8]</td>\n      <td>Bronchoscopy [1075611394], Cervical Mediastino...</td>\n      <td>Y</td>\n      <td>Lung</td>\n      <td>L-LR</td>\n      <td>[R91.8]</td>\n      <td>[1075611394, 1026, 1075611488, 1075611458]</td>\n      <td>R91.8</td>\n      <td>1075611394, 1026, 1075611488, 1075611458</td>\n    </tr>\n    <tr>\n      <th>3</th>\n      <td>Malignant neoplasm of upper lobe bronchus, lef...</td>\n      <td>Bronchoscopy [1075611394], Cervical Mediastino...</td>\n      <td>Y</td>\n      <td>Lung</td>\n      <td>L-LR</td>\n      <td>[C34.12]</td>\n      <td>[1075611394, 1026, 1075617883]</td>\n      <td>C34.12</td>\n      <td>1075611394, 1026, 1075617883</td>\n    </tr>\n    <tr>\n      <th>4</th>\n      <td>Endotheliosarcoma (HCC) [C49.9]\\nLung nodule [...</td>\n      <td>Right Video Assisted Thoracic Surgery Wedge Re...</td>\n      <td>Y</td>\n      <td>Lung</td>\n      <td>L-WR</td>\n      <td>[C49.9, R91.1]</td>\n      <td>[1075617883]</td>\n      <td>C49.9</td>\n      <td>1075617883</td>\n    </tr>\n  </tbody>\n</table>\n</div>"
     },
     "metadata": {},
     "execution_count": 20
    }
   ],
   "source": [
    "missing_service['DX1']=missing_service['Diagnosis Codes'].apply(lambda x: re.findall('\\[(.*?)\\]',x))\n",
    "# print(data['DX'])\n",
    "missing_service['Procedure Codes1']=missing_service['Case Procedures'].apply(lambda x: re.findall('\\[(.*?)\\]',x))\n",
    "#print(data['Procedure Codes'])\n",
    "\n",
    "missing_service['DX_Codes'] = missing_service['DX1'].str.get(0)\n",
    "# data['Procedure_Codes'] = data['Procedure Codes1'].str.get(0)\n",
    "missing_service['Procedure_Codes'] =  missing_service['Procedure Codes1'].str.join(', ')\n",
    "missing_service.head()"
   ]
  },
  {
   "cell_type": "code",
   "execution_count": 21,
   "metadata": {},
   "outputs": [
    {
     "output_type": "execute_result",
     "data": {
      "text/plain": [
       "  Case Indx Primary Categ Sub Categ DX_Codes  \\\n",
       "0         Y       Gastric        LM   K91.89   \n",
       "1         Y          Lung      L-WR   C34.31   \n",
       "2         Y          Lung      L-LR    R91.8   \n",
       "3         Y          Lung      L-LR   C34.12   \n",
       "4         Y          Lung      L-WR    C49.9   \n",
       "\n",
       "                            Procedure_Codes  \n",
       "0                                1075612272  \n",
       "1        1075619445, 1075617883, 1075617882  \n",
       "2  1075611394, 1026, 1075611488, 1075611458  \n",
       "3              1075611394, 1026, 1075617883  \n",
       "4                                1075617883  "
      ],
      "text/html": "<div>\n<style scoped>\n    .dataframe tbody tr th:only-of-type {\n        vertical-align: middle;\n    }\n\n    .dataframe tbody tr th {\n        vertical-align: top;\n    }\n\n    .dataframe thead th {\n        text-align: right;\n    }\n</style>\n<table border=\"1\" class=\"dataframe\">\n  <thead>\n    <tr style=\"text-align: right;\">\n      <th></th>\n      <th>Case Indx</th>\n      <th>Primary Categ</th>\n      <th>Sub Categ</th>\n      <th>DX_Codes</th>\n      <th>Procedure_Codes</th>\n    </tr>\n  </thead>\n  <tbody>\n    <tr>\n      <th>0</th>\n      <td>Y</td>\n      <td>Gastric</td>\n      <td>LM</td>\n      <td>K91.89</td>\n      <td>1075612272</td>\n    </tr>\n    <tr>\n      <th>1</th>\n      <td>Y</td>\n      <td>Lung</td>\n      <td>L-WR</td>\n      <td>C34.31</td>\n      <td>1075619445, 1075617883, 1075617882</td>\n    </tr>\n    <tr>\n      <th>2</th>\n      <td>Y</td>\n      <td>Lung</td>\n      <td>L-LR</td>\n      <td>R91.8</td>\n      <td>1075611394, 1026, 1075611488, 1075611458</td>\n    </tr>\n    <tr>\n      <th>3</th>\n      <td>Y</td>\n      <td>Lung</td>\n      <td>L-LR</td>\n      <td>C34.12</td>\n      <td>1075611394, 1026, 1075617883</td>\n    </tr>\n    <tr>\n      <th>4</th>\n      <td>Y</td>\n      <td>Lung</td>\n      <td>L-WR</td>\n      <td>C49.9</td>\n      <td>1075617883</td>\n    </tr>\n  </tbody>\n</table>\n</div>"
     },
     "metadata": {},
     "execution_count": 21
    }
   ],
   "source": [
    "missing_service = missing_service.drop(['Diagnosis Codes', 'Case Procedures', 'DX1', 'Procedure Codes1'], axis=1)\n",
    "missing_service.head()"
   ]
  },
  {
   "cell_type": "code",
   "execution_count": 22,
   "metadata": {},
   "outputs": [],
   "source": [
    "missing_service_encoded = encoder.transform(missing_service)"
   ]
  },
  {
   "cell_type": "code",
   "execution_count": 23,
   "metadata": {},
   "outputs": [
    {
     "output_type": "execute_result",
     "data": {
      "text/plain": [
       "array(['General', 'Thoracic', 'Thoracic', 'Thoracic', 'Thoracic',\n",
       "       'General', 'Thoracic', 'General', 'Thoracic', 'Thoracic',\n",
       "       'General', 'Thoracic', 'Thoracic', 'Thoracic', 'Thoracic',\n",
       "       'General', 'Thoracic', 'Thoracic', 'General', 'General', 'General',\n",
       "       'Thoracic', 'General', 'General', 'Thoracic', 'Thoracic'],\n",
       "      dtype=object)"
      ]
     },
     "metadata": {},
     "execution_count": 23
    }
   ],
   "source": [
    "lin_svc_clf_predictions = lin_svc_clf.predict(missing_service_encoded)\n",
    "lin_svc_clf_predictions"
   ]
  },
  {
   "cell_type": "code",
   "execution_count": 24,
   "metadata": {},
   "outputs": [],
   "source": [
    "services = pd.Series(lin_svc_clf_predictions)"
   ]
  },
  {
   "cell_type": "code",
   "execution_count": 25,
   "metadata": {},
   "outputs": [
    {
     "output_type": "execute_result",
     "data": {
      "text/plain": [
       "0      General\n",
       "1     Thoracic\n",
       "2     Thoracic\n",
       "3     Thoracic\n",
       "4     Thoracic\n",
       "5      General\n",
       "6     Thoracic\n",
       "7      General\n",
       "8     Thoracic\n",
       "9     Thoracic\n",
       "10     General\n",
       "11    Thoracic\n",
       "12    Thoracic\n",
       "13    Thoracic\n",
       "14    Thoracic\n",
       "15     General\n",
       "16    Thoracic\n",
       "17    Thoracic\n",
       "18     General\n",
       "19     General\n",
       "20     General\n",
       "21    Thoracic\n",
       "22     General\n",
       "23     General\n",
       "24    Thoracic\n",
       "25    Thoracic\n",
       "dtype: object"
      ]
     },
     "metadata": {},
     "execution_count": 25
    }
   ],
   "source": [
    "services"
   ]
  },
  {
   "cell_type": "code",
   "execution_count": null,
   "metadata": {},
   "outputs": [],
   "source": []
  }
 ]
}
